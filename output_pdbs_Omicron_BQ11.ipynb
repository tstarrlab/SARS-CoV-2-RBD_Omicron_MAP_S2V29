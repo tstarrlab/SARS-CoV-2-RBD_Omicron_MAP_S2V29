{
 "cells": [
  {
   "cell_type": "markdown",
   "metadata": {},
   "source": [
    "# Output PDBs with escape scores as B factors\n",
    "This Python Jupyter notebook outputs PDBs with the escape scores as B factors.\n",
    "\n",
    "Though we will want more elaborate series of commands to codify our visualization of these RBD structures colored by escape, the series of commands below, when executed in a `PyMol` session with one of these PDBs open, will color the RBD surface according to escape scores.\n",
    "\n",
    "For example, to normalize each structure colored by the max mut effect, we might want to have a white to red scale from 0 to 1:\n",
    "\n",
    "     create RBD, chain E\n",
    "     hide all; show cartoon, chain A; color gray20, chain A\n",
    "     show surface, RBD; spectrum b, white red, RBD, minimum=0, maximum=1\n",
    "     \n",
    "For something like total escape, maybe we want each structure normalized to the maximum total escape in that structure, in which case we can just leave the maximum argument empty:\n",
    "\n",
    "     create RBD, chain E\n",
    "     hide all; show cartoon, chain A; color gray20, chain A\n",
    "     show surface, RBD; spectrum b, white red, RBD, minimum=0\n",
    "     \n",
    "We write PDBs with B factors indicating the total site escape and maximum mutation escape at each site, and the same with these values normalized to the maximum for the full structure (the latter are easier to process in `Chimera`).\n",
    "\n",
    "First, import Python modules:"
   ]
  },
  {
   "cell_type": "code",
   "execution_count": 1,
   "metadata": {
    "execution": {
     "iopub.execute_input": "2024-01-22T23:25:24.736303Z",
     "iopub.status.busy": "2024-01-22T23:25:24.735900Z",
     "iopub.status.idle": "2024-01-22T23:25:25.161333Z",
     "shell.execute_reply": "2024-01-22T23:25:25.160774Z"
    }
   },
   "outputs": [],
   "source": [
    "import collections\n",
    "import copy\n",
    "import os\n",
    "import warnings\n",
    "\n",
    "import Bio.PDB\n",
    "\n",
    "import dms_variants.pdb_utils\n",
    "\n",
    "from IPython.display import display, HTML\n",
    "\n",
    "import pandas as pd\n",
    "\n",
    "import yaml\n",
    "\n",
    "%matplotlib inline"
   ]
  },
  {
   "cell_type": "markdown",
   "metadata": {},
   "source": [
    "Read the configuration file:"
   ]
  },
  {
   "cell_type": "code",
   "execution_count": 2,
   "metadata": {
    "execution": {
     "iopub.execute_input": "2024-01-22T23:25:25.164049Z",
     "iopub.status.busy": "2024-01-22T23:25:25.163701Z",
     "iopub.status.idle": "2024-01-22T23:25:25.186152Z",
     "shell.execute_reply": "2024-01-22T23:25:25.185675Z"
    }
   },
   "outputs": [],
   "source": [
    "with open('config.yaml') as f:\n",
    "    config = yaml.safe_load(f)"
   ]
  },
  {
   "cell_type": "markdown",
   "metadata": {},
   "source": [
    "Read configuration for outputting PDBs:"
   ]
  },
  {
   "cell_type": "code",
   "execution_count": 3,
   "metadata": {
    "execution": {
     "iopub.execute_input": "2024-01-22T23:25:25.188428Z",
     "iopub.status.busy": "2024-01-22T23:25:25.188115Z",
     "iopub.status.idle": "2024-01-22T23:25:25.224528Z",
     "shell.execute_reply": "2024-01-22T23:25:25.224046Z"
    }
   },
   "outputs": [
    {
     "name": "stdout",
     "output_type": "stream",
     "text": [
      "Reading PDB output configuration from data/output_pdbs_config_Omicron_BQ11.yaml\n"
     ]
    }
   ],
   "source": [
    "print(f\"Reading PDB output configuration from {config['output_pdbs_config_BQ11']}\")\n",
    "with open(config['output_pdbs_config_BQ11']) as f:\n",
    "    output_pdbs_config = yaml.safe_load(f)"
   ]
  },
  {
   "cell_type": "markdown",
   "metadata": {},
   "source": [
    "Make output directory:"
   ]
  },
  {
   "cell_type": "code",
   "execution_count": 4,
   "metadata": {
    "execution": {
     "iopub.execute_input": "2024-01-22T23:25:25.262378Z",
     "iopub.status.busy": "2024-01-22T23:25:25.261981Z",
     "iopub.status.idle": "2024-01-22T23:25:25.279564Z",
     "shell.execute_reply": "2024-01-22T23:25:25.279098Z"
    }
   },
   "outputs": [],
   "source": [
    "os.makedirs(config['pdb_outputs_dir_Omicron_BQ11'], exist_ok=True)"
   ]
  },
  {
   "cell_type": "markdown",
   "metadata": {},
   "source": [
    "Read escape fractions and compute **total** and **maximum** escape at each site, and also the total and maximum escape at each site normalized to be between 0 and 1 for each selection:"
   ]
  },
  {
   "cell_type": "code",
   "execution_count": 5,
   "metadata": {
    "execution": {
     "iopub.execute_input": "2024-01-22T23:25:25.281817Z",
     "iopub.status.busy": "2024-01-22T23:25:25.281516Z",
     "iopub.status.idle": "2024-01-22T23:25:25.341884Z",
     "shell.execute_reply": "2024-01-22T23:25:25.341408Z"
    }
   },
   "outputs": [
    {
     "name": "stdout",
     "output_type": "stream",
     "text": [
      "Reading escape fractions from results/escape_scores/escape_fracs_Omicron_BQ11.csv\n"
     ]
    },
    {
     "data": {
      "text/html": [
       "<table border=\"1\" class=\"dataframe\">\n",
       "  <thead>\n",
       "    <tr style=\"text-align: right;\">\n",
       "      <th>selection</th>\n",
       "      <th>site</th>\n",
       "      <th>total_escape</th>\n",
       "      <th>max_escape</th>\n",
       "      <th>max_total_escape</th>\n",
       "      <th>max_max_escape</th>\n",
       "      <th>norm_total_escape</th>\n",
       "      <th>norm_max_escape</th>\n",
       "    </tr>\n",
       "  </thead>\n",
       "  <tbody>\n",
       "    <tr>\n",
       "      <td>S2K146_222</td>\n",
       "      <td>331</td>\n",
       "      <td>0.325974</td>\n",
       "      <td>0.05231</td>\n",
       "      <td>14.6797</td>\n",
       "      <td>0.9256</td>\n",
       "      <td>0.022206</td>\n",
       "      <td>0.056515</td>\n",
       "    </tr>\n",
       "    <tr>\n",
       "      <td>S2K146_222</td>\n",
       "      <td>332</td>\n",
       "      <td>0.268666</td>\n",
       "      <td>0.05995</td>\n",
       "      <td>14.6797</td>\n",
       "      <td>0.9256</td>\n",
       "      <td>0.018302</td>\n",
       "      <td>0.064769</td>\n",
       "    </tr>\n",
       "    <tr>\n",
       "      <td>S2K146_222</td>\n",
       "      <td>333</td>\n",
       "      <td>0.259917</td>\n",
       "      <td>0.02501</td>\n",
       "      <td>14.6797</td>\n",
       "      <td>0.9256</td>\n",
       "      <td>0.017706</td>\n",
       "      <td>0.027020</td>\n",
       "    </tr>\n",
       "    <tr>\n",
       "      <td>S2K146_222</td>\n",
       "      <td>334</td>\n",
       "      <td>0.288535</td>\n",
       "      <td>0.04134</td>\n",
       "      <td>14.6797</td>\n",
       "      <td>0.9256</td>\n",
       "      <td>0.019655</td>\n",
       "      <td>0.044663</td>\n",
       "    </tr>\n",
       "    <tr>\n",
       "      <td>S2K146_222</td>\n",
       "      <td>335</td>\n",
       "      <td>0.374032</td>\n",
       "      <td>0.05994</td>\n",
       "      <td>14.6797</td>\n",
       "      <td>0.9256</td>\n",
       "      <td>0.025480</td>\n",
       "      <td>0.064758</td>\n",
       "    </tr>\n",
       "  </tbody>\n",
       "</table>"
      ],
      "text/plain": [
       "<IPython.core.display.HTML object>"
      ]
     },
     "metadata": {},
     "output_type": "display_data"
    }
   ],
   "source": [
    "print(f\"Reading escape fractions from {config['escape_fracs_Omicron_BQ11']}\")\n",
    "\n",
    "escape_fracs = (\n",
    "    pd.read_csv(config['escape_fracs_Omicron_BQ11'])\n",
    "    .query('library == \"average\"')\n",
    "    .assign(site=lambda x: x['label_site'])\n",
    "    .groupby(['selection', 'site'])\n",
    "    .aggregate(total_escape=pd.NamedAgg(config['mut_metric'], 'sum'),\n",
    "               max_escape=pd.NamedAgg(config['mut_metric'], 'max')\n",
    "               )\n",
    "    .reset_index()\n",
    "    .assign(max_total_escape=lambda x: x.groupby('selection')['total_escape'].transform('max'),\n",
    "            max_max_escape=lambda x: x.groupby('selection')['max_escape'].transform('max'),\n",
    "            norm_total_escape=lambda x: x['total_escape'] / x['max_total_escape'],\n",
    "            norm_max_escape=lambda x: x['max_escape'] / x['max_max_escape'])\n",
    "    )\n",
    "\n",
    "display(HTML(escape_fracs.head().to_html(index=False)))"
   ]
  },
  {
   "cell_type": "markdown",
   "metadata": {},
   "source": [
    "Now map the escape metrics to the B-factors.\n",
    "For sites where no mutations have escape scores:\n",
    " - In the RBD chain(s) fill the B-factor for non-normalized scores to -1 to enable collapsing to zero or callout as a a separate class, depending how we choose to color sites for different visualizations. For normalized scores, fill to 0.\n",
    " - In other chains, always fill missing B factors to 0.  "
   ]
  },
  {
   "cell_type": "code",
   "execution_count": 6,
   "metadata": {
    "execution": {
     "iopub.execute_input": "2024-01-22T23:25:25.344263Z",
     "iopub.status.busy": "2024-01-22T23:25:25.344055Z",
     "iopub.status.idle": "2024-01-22T23:25:28.307097Z",
     "shell.execute_reply": "2024-01-22T23:25:28.306562Z"
    }
   },
   "outputs": [
    {
     "name": "stdout",
     "output_type": "stream",
     "text": [
      "\n",
      "Making PDB mappings for 8if2 to data/pdbs/8if2_BQ11.pdb\n",
      "Making mappings for 3 conditions.\n",
      "Mapping to the following chains: B\n",
      "  Writing B-factor re-assigned PDBs for S2K146_222 to:\n",
      "    results/pdb_outputs/Omicron_BQ11/S2K146_222_8if2_total_escape.pdb\n",
      "    results/pdb_outputs/Omicron_BQ11/S2K146_222_8if2_max_escape.pdb\n",
      "    results/pdb_outputs/Omicron_BQ11/S2K146_222_8if2_norm_total_escape.pdb\n",
      "    results/pdb_outputs/Omicron_BQ11/S2K146_222_8if2_norm_max_escape.pdb\n",
      "  Writing B-factor re-assigned PDBs for S2V29_42 to:\n",
      "    results/pdb_outputs/Omicron_BQ11/S2V29_42_8if2_total_escape.pdb\n",
      "    results/pdb_outputs/Omicron_BQ11/S2V29_42_8if2_max_escape.pdb\n",
      "    results/pdb_outputs/Omicron_BQ11/S2V29_42_8if2_norm_total_escape.pdb\n",
      "    results/pdb_outputs/Omicron_BQ11/S2V29_42_8if2_norm_max_escape.pdb\n",
      "  Writing B-factor re-assigned PDBs for S2V29_v37_2_52 to:\n",
      "    results/pdb_outputs/Omicron_BQ11/S2V29_v37_2_52_8if2_total_escape.pdb\n",
      "    results/pdb_outputs/Omicron_BQ11/S2V29_v37_2_52_8if2_max_escape.pdb\n",
      "    results/pdb_outputs/Omicron_BQ11/S2V29_v37_2_52_8if2_norm_total_escape.pdb\n",
      "    results/pdb_outputs/Omicron_BQ11/S2V29_v37_2_52_8if2_norm_max_escape.pdb\n"
     ]
    }
   ],
   "source": [
    "for name, specs in output_pdbs_config.items():\n",
    "    print(f\"\\nMaking PDB mappings for {name} to {specs['pdbfile']}\")\n",
    "    assert os.path.isfile(specs['pdbfile'])\n",
    "    \n",
    "    # get escape fracs just for conditions of interest\n",
    "    if isinstance(specs['conditions'], str) and specs['conditions'].upper() == 'ALL':\n",
    "        conditions = escape_fracs['selection'].unique().tolist()\n",
    "    else:\n",
    "        assert isinstance(specs['conditions'], list)\n",
    "        conditions = specs['conditions']\n",
    "    print(f\"Making mappings for {len(conditions)} conditions.\")\n",
    "    df = escape_fracs.query('selection in @conditions')\n",
    "    \n",
    "    # get chains\n",
    "    assert isinstance(specs['chains'], list)\n",
    "    print('Mapping to the following chains: ' + ', '.join(specs['chains']))\n",
    "    df = pd.concat([df.assign(chain=chain) for chain in specs['chains']], ignore_index=True)\n",
    "    \n",
    "    # make mappings for each condition and metric\n",
    "    for condition, df in df.groupby('selection'):\n",
    "        print(f\"  Writing B-factor re-assigned PDBs for {condition} to:\")\n",
    "    \n",
    "        for metric in ['total_escape', 'max_escape', 'norm_total_escape', 'norm_max_escape']:\n",
    "        \n",
    "            # what do we assign to missing sites?\n",
    "            missing_metric = collections.defaultdict(lambda: 0)  # non-RBD chains always fill to zero\n",
    "            for chain in specs['chains']:\n",
    "                if 'norm' in metric:\n",
    "                    missing_metric[chain] = 0  # missing sites in RBD are 0 for normalized metric PDBs\n",
    "                else:\n",
    "                    missing_metric[chain] = -1  # missing sites in RBD are -1 for non-normalized metric PDBs\n",
    "        \n",
    "            fname = os.path.join(config['pdb_outputs_dir_Omicron_BQ11'], f\"{condition}_{name}_{metric}.pdb\")\n",
    "            print(f\"    {fname}\")\n",
    "            \n",
    "            dms_variants.pdb_utils.reassign_b_factor(input_pdbfile=specs['pdbfile'],\n",
    "                                                     output_pdbfile=fname,\n",
    "                                                     df=df,\n",
    "                                                     metric_col=metric,\n",
    "                                                     missing_metric=missing_metric)"
   ]
  },
  {
   "cell_type": "code",
   "execution_count": null,
   "metadata": {},
   "outputs": [],
   "source": []
  }
 ],
 "metadata": {
  "kernelspec": {
   "display_name": "Python 3 (ipykernel)",
   "language": "python",
   "name": "python3"
  },
  "language_info": {
   "codemirror_mode": {
    "name": "ipython",
    "version": 3
   },
   "file_extension": ".py",
   "mimetype": "text/x-python",
   "name": "python",
   "nbconvert_exporter": "python",
   "pygments_lexer": "ipython3",
   "version": "3.8.15"
  }
 },
 "nbformat": 4,
 "nbformat_minor": 4
}
