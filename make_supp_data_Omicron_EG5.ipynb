{
 "cells": [
  {
   "cell_type": "markdown",
   "metadata": {},
   "source": [
    "# Make supplementary data files\n",
    "This Python Jupyter notebook makes supplementary files for antibody sets for which doing this is specified in `escape_profiles_config`:\n",
    " - raw data files\n",
    " - [dms-view](https://dms-view.github.io/) input files\n",
    " - correlations between libraries"
   ]
  },
  {
   "cell_type": "markdown",
   "metadata": {},
   "source": [
    "## Set up\n",
    "Import Python modules:"
   ]
  },
  {
   "cell_type": "code",
   "execution_count": 1,
   "metadata": {
    "execution": {
     "iopub.execute_input": "2024-05-15T19:03:52.756529Z",
     "iopub.status.busy": "2024-05-15T19:03:52.755754Z",
     "iopub.status.idle": "2024-05-15T19:03:54.703828Z",
     "shell.execute_reply": "2024-05-15T19:03:54.702560Z"
    }
   },
   "outputs": [],
   "source": [
    "import itertools\n",
    "import math\n",
    "import os\n",
    "\n",
    "from IPython.display import display, HTML\n",
    "\n",
    "import matplotlib.pyplot as plt\n",
    "\n",
    "import pandas as pd\n",
    "\n",
    "from plotnine import *\n",
    "\n",
    "import yaml\n",
    "\n",
    "%matplotlib inline"
   ]
  },
  {
   "cell_type": "markdown",
   "metadata": {},
   "source": [
    "Read the configuration file:"
   ]
  },
  {
   "cell_type": "code",
   "execution_count": 2,
   "metadata": {
    "execution": {
     "iopub.execute_input": "2024-05-15T19:03:54.711247Z",
     "iopub.status.busy": "2024-05-15T19:03:54.710145Z",
     "iopub.status.idle": "2024-05-15T19:03:54.749008Z",
     "shell.execute_reply": "2024-05-15T19:03:54.747860Z"
    }
   },
   "outputs": [],
   "source": [
    "with open('config.yaml') as f:\n",
    "    config = yaml.safe_load(f)"
   ]
  },
  {
   "cell_type": "markdown",
   "metadata": {},
   "source": [
    "Create output directory:"
   ]
  },
  {
   "cell_type": "code",
   "execution_count": 3,
   "metadata": {
    "execution": {
     "iopub.execute_input": "2024-05-15T19:03:54.753926Z",
     "iopub.status.busy": "2024-05-15T19:03:54.753723Z",
     "iopub.status.idle": "2024-05-15T19:03:54.811069Z",
     "shell.execute_reply": "2024-05-15T19:03:54.809866Z"
    }
   },
   "outputs": [],
   "source": [
    "os.makedirs(config['supp_data_dir_Omicron_EG5'], exist_ok=True)"
   ]
  },
  {
   "cell_type": "markdown",
   "metadata": {},
   "source": [
    "Extract from configuration what we will use as the site- and mutation-level metrics:"
   ]
  },
  {
   "cell_type": "code",
   "execution_count": 4,
   "metadata": {
    "execution": {
     "iopub.execute_input": "2024-05-15T19:03:54.816642Z",
     "iopub.status.busy": "2024-05-15T19:03:54.816135Z",
     "iopub.status.idle": "2024-05-15T19:03:54.823870Z",
     "shell.execute_reply": "2024-05-15T19:03:54.822603Z"
    }
   },
   "outputs": [
    {
     "name": "stdout",
     "output_type": "stream",
     "text": [
      "At site level, quantifying selection by site_total_escape_frac_single_mut\n",
      "At mutation level, quantify selection by mut_escape_frac_single_mut\n"
     ]
    }
   ],
   "source": [
    "site_metric = config['site_metric']\n",
    "mut_metric = config['mut_metric']\n",
    "\n",
    "print(f\"At site level, quantifying selection by {site_metric}\")\n",
    "print(f\"At mutation level, quantify selection by {mut_metric}\")"
   ]
  },
  {
   "cell_type": "markdown",
   "metadata": {},
   "source": [
    "Read escape profiles configuration and get sets for which we will be making supp data:"
   ]
  },
  {
   "cell_type": "code",
   "execution_count": 5,
   "metadata": {
    "execution": {
     "iopub.execute_input": "2024-05-15T19:03:54.871134Z",
     "iopub.status.busy": "2024-05-15T19:03:54.870351Z",
     "iopub.status.idle": "2024-05-15T19:03:54.901544Z",
     "shell.execute_reply": "2024-05-15T19:03:54.900601Z"
    }
   },
   "outputs": [
    {
     "name": "stdout",
     "output_type": "stream",
     "text": [
      "Making supplementary data for the following condition sets:\n",
      "  VIR7229\n",
      "  S2K146\n",
      "  S2V29_parent\n"
     ]
    }
   ],
   "source": [
    "with open (config['escape_profiles_config_Omicron_EG5']) as f:\n",
    "    escape_profiles_config = yaml.safe_load(f)\n",
    "    \n",
    "condition_sets = {name: specs['conditions'] for name, specs in escape_profiles_config.items()\n",
    "                  if 'make_supp_data' in specs and specs['make_supp_data']}\n",
    "\n",
    "print('Making supplementary data for the following condition sets:\\n  ' + '\\n  '.join(condition_sets))"
   ]
  },
  {
   "cell_type": "markdown",
   "metadata": {},
   "source": [
    "Read the escape fractions"
   ]
  },
  {
   "cell_type": "code",
   "execution_count": 6,
   "metadata": {
    "execution": {
     "iopub.execute_input": "2024-05-15T19:03:54.906341Z",
     "iopub.status.busy": "2024-05-15T19:03:54.906140Z",
     "iopub.status.idle": "2024-05-15T19:03:54.935428Z",
     "shell.execute_reply": "2024-05-15T19:03:54.934429Z"
    }
   },
   "outputs": [
    {
     "name": "stdout",
     "output_type": "stream",
     "text": [
      "Reading escape fractions from results/escape_scores/escape_fracs_Omicron_EG5.csv\n"
     ]
    }
   ],
   "source": [
    "print(f\"Reading escape fractions from {config['escape_fracs_Omicron_EG5']}\")\n",
    "escape_fracs_all = pd.read_csv(config['escape_fracs_Omicron_EG5'])"
   ]
  },
  {
   "cell_type": "markdown",
   "metadata": {},
   "source": [
    "Read the configuration about what data gets output on what PDBs:"
   ]
  },
  {
   "cell_type": "code",
   "execution_count": 7,
   "metadata": {
    "execution": {
     "iopub.execute_input": "2024-05-15T19:03:54.940524Z",
     "iopub.status.busy": "2024-05-15T19:03:54.940226Z",
     "iopub.status.idle": "2024-05-15T19:03:54.946587Z",
     "shell.execute_reply": "2024-05-15T19:03:54.945485Z"
    }
   },
   "outputs": [],
   "source": [
    "with open (config['output_pdbs_config']) as f:\n",
    "    output_pdbs_config = yaml.safe_load(f)"
   ]
  },
  {
   "cell_type": "markdown",
   "metadata": {},
   "source": [
    "## Correlations between libraries\n",
    "Plot correlations between libraries for mutation- and site-level escape:"
   ]
  },
  {
   "cell_type": "code",
   "execution_count": 8,
   "metadata": {
    "execution": {
     "iopub.execute_input": "2024-05-15T19:03:54.950936Z",
     "iopub.status.busy": "2024-05-15T19:03:54.950531Z",
     "iopub.status.idle": "2024-05-15T19:04:00.152099Z",
     "shell.execute_reply": "2024-05-15T19:04:00.151002Z"
    }
   },
   "outputs": [
    {
     "name": "stdout",
     "output_type": "stream",
     "text": [
      "\n",
      "Plotting correlations of mutation escape for VIR7229\n"
     ]
    },
    {
     "data": {
      "image/png": "[encoded data removed]",
      "text/plain": [
       "<Figure size 250x250 with 1 Axes>"
      ]
     },
     "metadata": {},
     "output_type": "display_data"
    },
    {
     "name": "stdout",
     "output_type": "stream",
     "text": [
      "Saving plot to results/supp_data/Omicron_EG5/VIR7229-mutation-corr.pdf\n",
      "\n",
      "Plotting correlations of mutation escape for S2K146\n"
     ]
    },
    {
     "data": {
      "image/png": "[encoded data removed]",
      "text/plain": [
       "<Figure size 250x250 with 1 Axes>"
      ]
     },
     "metadata": {},
     "output_type": "display_data"
    },
    {
     "name": "stdout",
     "output_type": "stream",
     "text": [
      "Saving plot to results/supp_data/Omicron_EG5/S2K146-mutation-corr.pdf\n",
      "\n",
      "Plotting correlations of mutation escape for S2V29_parent\n"
     ]
    },
    {
     "data": {
      "image/png": "[encoded data removed]",
      "text/plain": [
       "<Figure size 250x250 with 1 Axes>"
      ]
     },
     "metadata": {},
     "output_type": "display_data"
    },
    {
     "name": "stdout",
     "output_type": "stream",
     "text": [
      "Saving plot to results/supp_data/Omicron_EG5/S2V29_parent-mutation-corr.pdf\n",
      "\n",
      "Plotting correlations of site escape for VIR7229\n"
     ]
    },
    {
     "data": {
      "image/png": "[encoded data removed]",
      "text/plain": [
       "<Figure size 250x250 with 1 Axes>"
      ]
     },
     "metadata": {},
     "output_type": "display_data"
    },
    {
     "name": "stdout",
     "output_type": "stream",
     "text": [
      "Saving plot to results/supp_data/Omicron_EG5/VIR7229-site-corr.pdf\n",
      "\n",
      "Plotting correlations of site escape for S2K146\n"
     ]
    },
    {
     "data": {
      "image/png": "[encoded data removed]",
      "text/plain": [
       "<Figure size 250x250 with 1 Axes>"
      ]
     },
     "metadata": {},
     "output_type": "display_data"
    },
    {
     "name": "stdout",
     "output_type": "stream",
     "text": [
      "Saving plot to results/supp_data/Omicron_EG5/S2K146-site-corr.pdf\n",
      "\n",
      "Plotting correlations of site escape for S2V29_parent\n"
     ]
    },
    {
     "data": {
      "image/png": "[encoded data removed]",
      "text/plain": [
       "<Figure size 250x250 with 1 Axes>"
      ]
     },
     "metadata": {},
     "output_type": "display_data"
    },
    {
     "name": "stdout",
     "output_type": "stream",
     "text": [
      "Saving plot to results/supp_data/Omicron_EG5/S2V29_parent-site-corr.pdf\n"
     ]
    }
   ],
   "source": [
    "libraries = [lib for lib in escape_fracs_all['library'].unique() if lib != \"average\"]\n",
    "assert len(libraries) == 2, 'plot only makes sense if 2 libraries'\n",
    "\n",
    "for metric_type, (set_name, condition_set) in itertools.product(['mutation', 'site'],\n",
    "                                                                condition_sets.items()):\n",
    "    \n",
    "    print(f\"\\nPlotting correlations of {metric_type} escape for {set_name}\")\n",
    "    \n",
    "    if metric_type == 'mutation':\n",
    "        metric = mut_metric\n",
    "        pivot_index = ['selection', 'site', 'mutation']\n",
    "    elif metric_type == 'site':\n",
    "        metric = site_metric\n",
    "        pivot_index = ['selection', 'site']\n",
    "    else:\n",
    "        raise ValueError(f\"invalid `metric_type` {metric_type}\")\n",
    "\n",
    "    # wide data frame with each library's score in a different column\n",
    "    df_wide = (\n",
    "        escape_fracs_all\n",
    "        .query('library != \"average\"')\n",
    "        .query('selection in @condition_set')\n",
    "        .assign(selection=lambda x: x['selection'].map(condition_set))\n",
    "        # need to drop duplicate columns if using site metric\n",
    "        [['library', metric] + pivot_index]\n",
    "        .drop_duplicates()\n",
    "        # now make columns for each library, only keep mutants with scores for both libs\n",
    "        .pivot_table(index=pivot_index,\n",
    "                     columns='library',\n",
    "                     values=metric)\n",
    "        .reset_index()\n",
    "        .dropna(axis=0)\n",
    "        )\n",
    "\n",
    "    # correlations between libraries\n",
    "    corrs = (\n",
    "        df_wide\n",
    "        .groupby('selection')\n",
    "        [libraries]\n",
    "        .corr(method='pearson')\n",
    "        .reset_index()\n",
    "        .query('library == @libraries[0]')\n",
    "        .assign(correlation=lambda x: 'R=' + x[libraries[1]].round(2).astype(str))\n",
    "        [['selection', 'correlation']]\n",
    "        # add number of mutations measured\n",
    "        .merge(df_wide\n",
    "               .groupby('selection')\n",
    "               .size()\n",
    "               .rename('n')\n",
    "               .reset_index()\n",
    "               )\n",
    "        .assign(correlation=lambda x: x['correlation'] + ', N=' + x['n'].astype(str))\n",
    "        )\n",
    "\n",
    "    # plot correlations\n",
    "    nfacets = df_wide['selection'].nunique()\n",
    "    ncol = min(nfacets, 5)\n",
    "    nrow = math.ceil(nfacets / ncol)\n",
    "    xmin = df_wide[libraries[0]].min()\n",
    "    xspan = df_wide[libraries[0]].max() - xmin\n",
    "    ymin = df_wide[libraries[1]].min()\n",
    "    yspan = df_wide[libraries[1]].max() - ymin\n",
    "    p = (ggplot(df_wide) +\n",
    "         aes(libraries[0], libraries[1]) +\n",
    "         geom_point(alpha=0.2, color='black') +\n",
    "         geom_text(mapping=aes(label='correlation'),\n",
    "                   data=corrs,\n",
    "                   x=0.01 * xspan + xmin,\n",
    "                   y=0.99 * yspan + ymin,\n",
    "                   size=10,\n",
    "                   ha='left',\n",
    "                   va='top',\n",
    "                   ) +\n",
    "         facet_wrap('~ selection', ncol=ncol) +\n",
    "         theme_classic() +\n",
    "         theme(figure_size=(2.5 * ncol, 2.5 * nrow),\n",
    "               plot_title=element_text(size=14)) +\n",
    "         ggtitle(f\"{metric_type}-level escape\")\n",
    "         )\n",
    "\n",
    "    fig = p.draw()\n",
    "    display(fig)\n",
    "    plotfile = os.path.join(config['supp_data_dir_Omicron_EG5'],\n",
    "                            f\"{set_name}-{metric_type}-corr.pdf\")\n",
    "    print(f\"Saving plot to {plotfile}\")\n",
    "    p.save(plotfile, verbose=False)\n",
    "    plt.close(fig)"
   ]
  },
  {
   "cell_type": "markdown",
   "metadata": {},
   "source": [
    "## Raw data files\n",
    "Get the \"raw data\" for the effects of each mutation on antibody escape.\n",
    "This has just the columns of most interest for the average of the two libraries, renamed in a sensible way:"
   ]
  },
  {
   "cell_type": "code",
   "execution_count": 9,
   "metadata": {
    "execution": {
     "iopub.execute_input": "2024-05-15T19:04:00.156710Z",
     "iopub.status.busy": "2024-05-15T19:04:00.156482Z",
     "iopub.status.idle": "2024-05-15T19:04:00.169783Z",
     "shell.execute_reply": "2024-05-15T19:04:00.168617Z"
    }
   },
   "outputs": [],
   "source": [
    "raw_data = (\n",
    "    escape_fracs_all\n",
    "    .query('library == \"average\"')\n",
    "    .drop(columns=['library'])\n",
    "    .rename(columns={mut_metric: 'mut_escape',\n",
    "                     site_metric: 'site_total_escape'})\n",
    "    [['condition', 'site', 'label_site', 'wildtype', 'mutation', 'protein_chain',\n",
    "      'protein_site', 'mut_escape', 'site_total_escape']]\n",
    "    .assign(site_max_escape=lambda x: x.groupby(['condition', 'site'])['mut_escape'].transform('max'))\n",
    "    )"
   ]
  },
  {
   "cell_type": "markdown",
   "metadata": {},
   "source": [
    "Now write the raw data for each condition set:"
   ]
  },
  {
   "cell_type": "code",
   "execution_count": 10,
   "metadata": {
    "execution": {
     "iopub.execute_input": "2024-05-15T19:04:00.174763Z",
     "iopub.status.busy": "2024-05-15T19:04:00.174553Z",
     "iopub.status.idle": "2024-05-15T19:04:00.233967Z",
     "shell.execute_reply": "2024-05-15T19:04:00.232777Z"
    }
   },
   "outputs": [
    {
     "name": "stdout",
     "output_type": "stream",
     "text": [
      "\n",
      "Raw data for VIR7229:\n",
      "Writing to results/supp_data/Omicron_EG5/VIR7229_raw_data.csv\n",
      "\n",
      "Raw data for S2K146:\n",
      "Writing to results/supp_data/Omicron_EG5/S2K146_raw_data.csv\n",
      "\n",
      "Raw data for S2V29_parent:\n",
      "Writing to results/supp_data/Omicron_EG5/S2V29_parent_raw_data.csv\n"
     ]
    }
   ],
   "source": [
    "for set_name, condition_set in condition_sets.items():\n",
    "    print(f\"\\nRaw data for {set_name}:\")\n",
    "    df = (raw_data\n",
    "          .query('condition in @condition_set')\n",
    "          .assign(condition=lambda x: x['condition'].map(condition_set))\n",
    "          [['condition', 'label_site', 'wildtype', 'mutation', 'mut_escape',\n",
    "            'site_total_escape', 'site_max_escape']]\n",
    "          .rename(columns={'label_site': 'site'})\n",
    "          )\n",
    "    #display(HTML(df.head().to_html(index=False)))\n",
    "    csv_file = os.path.join(config['supp_data_dir_Omicron_EG5'], f\"{set_name}_raw_data.csv\")\n",
    "    print(f\"Writing to {csv_file}\")\n",
    "    df.to_csv(csv_file, index=False, float_format='%.4g')"
   ]
  },
  {
   "cell_type": "markdown",
   "metadata": {},
   "source": [
    "## Data for `dms-view`:\n",
    "Now we write the data in a format for display by [dms-view](https://dms-view.github.io/docs/dataupload) with several different possible mutation-level escape color schemes and also allowing options to visualize directly the deep mutational scanning data.\n",
    "We write such a file for each condition set for the PDBs specified in `output_pdbs_config`.\n",
    "\n",
    "First, create the different color schemes for the mutation-level escape.\n",
    "The first step is to read these color schemes:"
   ]
  },
  {
   "cell_type": "code",
   "execution_count": 11,
   "metadata": {
    "execution": {
     "iopub.execute_input": "2024-05-15T19:04:00.238654Z",
     "iopub.status.busy": "2024-05-15T19:04:00.238456Z",
     "iopub.status.idle": "2024-05-15T19:04:00.248352Z",
     "shell.execute_reply": "2024-05-15T19:04:00.247291Z"
    }
   },
   "outputs": [
    {
     "name": "stdout",
     "output_type": "stream",
     "text": [
      "Reading DMS color schemes from results/escape_profiles/Omicron_EG5/escape_profiles_dms_colors.csv\n"
     ]
    }
   ],
   "source": [
    "print(f\"Reading DMS color schemes from {config['escape_profiles_dms_colors_Omicron_EG5']}\")\n",
    "\n",
    "dms_colors = (\n",
    "    pd.read_csv(config['escape_profiles_dms_colors_Omicron_EG5'])\n",
    "    .drop(columns=['bind', 'expr'])\n",
    "    .rename(columns={'site': 'label_site'})\n",
    "    .rename(columns={'bind_color': 'color ACE2 bind',\n",
    "                     'expr_color': 'color RBD expr'})\n",
    "    # add color schemes by functional group and all gray\n",
    "    .assign(**{'color gray': '#696969',\n",
    "               'color func group': 'functional'})\n",
    "    )"
   ]
  },
  {
   "cell_type": "markdown",
   "metadata": {},
   "source": [
    "Now write a [dms-view](https://dms-view.github.io/docs/dataupload) input file that allows different mutation-level coloring schemes:"
   ]
  },
  {
   "cell_type": "code",
   "execution_count": 12,
   "metadata": {
    "execution": {
     "iopub.execute_input": "2024-05-15T19:04:00.252052Z",
     "iopub.status.busy": "2024-05-15T19:04:00.251853Z",
     "iopub.status.idle": "2024-05-15T19:04:00.309370Z",
     "shell.execute_reply": "2024-05-15T19:04:00.308211Z"
    }
   },
   "outputs": [
    {
     "data": {
      "text/html": [
       "<table border=\"1\" class=\"dataframe\">\n",
       "  <thead>\n",
       "    <tr style=\"text-align: right;\">\n",
       "      <th>condition</th>\n",
       "      <th>site</th>\n",
       "      <th>label_site</th>\n",
       "      <th>wildtype</th>\n",
       "      <th>mutation</th>\n",
       "      <th>protein_site</th>\n",
       "      <th>mut_escape color ACE2 bind</th>\n",
       "      <th>site_total escape</th>\n",
       "      <th>site_max escape</th>\n",
       "      <th>color_for_mutation</th>\n",
       "      <th>mut_escape color RBD expr</th>\n",
       "      <th>mut_escape color gray</th>\n",
       "      <th>mut_escape color func group</th>\n",
       "    </tr>\n",
       "  </thead>\n",
       "  <tbody>\n",
       "    <tr>\n",
       "      <td>S2K146_121</td>\n",
       "      <td>1</td>\n",
       "      <td>331</td>\n",
       "      <td>N</td>\n",
       "      <td>-</td>\n",
       "      <td>331</td>\n",
       "      <td>0.004829</td>\n",
       "      <td>0.1627</td>\n",
       "      <td>0.02429</td>\n",
       "      <td>#662505</td>\n",
       "      <td>NaN</td>\n",
       "      <td>NaN</td>\n",
       "      <td>NaN</td>\n",
       "    </tr>\n",
       "    <tr>\n",
       "      <td>S2K146_121</td>\n",
       "      <td>1</td>\n",
       "      <td>331</td>\n",
       "      <td>N</td>\n",
       "      <td>A</td>\n",
       "      <td>331</td>\n",
       "      <td>0.005414</td>\n",
       "      <td>0.1627</td>\n",
       "      <td>0.02429</td>\n",
       "      <td>#662505</td>\n",
       "      <td>NaN</td>\n",
       "      <td>NaN</td>\n",
       "      <td>NaN</td>\n",
       "    </tr>\n",
       "    <tr>\n",
       "      <td>S2K146_121</td>\n",
       "      <td>1</td>\n",
       "      <td>331</td>\n",
       "      <td>N</td>\n",
       "      <td>D</td>\n",
       "      <td>331</td>\n",
       "      <td>0.016100</td>\n",
       "      <td>0.1627</td>\n",
       "      <td>0.02429</td>\n",
       "      <td>#7a2b05</td>\n",
       "      <td>NaN</td>\n",
       "      <td>NaN</td>\n",
       "      <td>NaN</td>\n",
       "    </tr>\n",
       "    <tr>\n",
       "      <td>S2K146_121</td>\n",
       "      <td>1</td>\n",
       "      <td>331</td>\n",
       "      <td>N</td>\n",
       "      <td>E</td>\n",
       "      <td>331</td>\n",
       "      <td>0.004020</td>\n",
       "      <td>0.1627</td>\n",
       "      <td>0.02429</td>\n",
       "      <td>#6a2605</td>\n",
       "      <td>NaN</td>\n",
       "      <td>NaN</td>\n",
       "      <td>NaN</td>\n",
       "    </tr>\n",
       "    <tr>\n",
       "      <td>S2K146_121</td>\n",
       "      <td>1</td>\n",
       "      <td>331</td>\n",
       "      <td>N</td>\n",
       "      <td>G</td>\n",
       "      <td>331</td>\n",
       "      <td>0.008748</td>\n",
       "      <td>0.1627</td>\n",
       "      <td>0.02429</td>\n",
       "      <td>#662505</td>\n",
       "      <td>NaN</td>\n",
       "      <td>NaN</td>\n",
       "      <td>NaN</td>\n",
       "    </tr>\n",
       "  </tbody>\n",
       "</table>"
      ],
      "text/plain": [
       "<IPython.core.display.HTML object>"
      ]
     },
     "metadata": {},
     "output_type": "display_data"
    }
   ],
   "source": [
    "dms_view_df = (\n",
    "    pd.concat([raw_data.merge(dms_colors[['label_site', 'mutation', color]],\n",
    "                              how='left',\n",
    "                              validate='many_to_one')\n",
    "                       .rename(columns={color: 'color_for_mutation',\n",
    "                                        'mut_escape': 'mut_escape ' + color})\n",
    "               for color in dms_colors.drop(columns=['label_site', 'mutation']).columns.tolist()\n",
    "               ])\n",
    "    .rename(columns={'site_max_escape': 'site_max escape',\n",
    "                     'site_total_escape': 'site_total escape'})\n",
    "    .drop(columns='protein_chain')\n",
    "    )\n",
    "\n",
    "display(HTML(dms_view_df.head().to_html(index=False)))"
   ]
  },
  {
   "cell_type": "markdown",
   "metadata": {},
   "source": [
    "Finally, write `dms-view` input files for each condition set:"
   ]
  },
  {
   "cell_type": "code",
   "execution_count": 13,
   "metadata": {
    "execution": {
     "iopub.execute_input": "2024-05-15T19:04:00.314720Z",
     "iopub.status.busy": "2024-05-15T19:04:00.314060Z",
     "iopub.status.idle": "2024-05-15T19:04:00.540637Z",
     "shell.execute_reply": "2024-05-15T19:04:00.539400Z"
    }
   },
   "outputs": [
    {
     "name": "stdout",
     "output_type": "stream",
     "text": [
      "Writing `dms-view` input file for VIR7229 mapped to PDB 6m0j to results/supp_data/Omicron_EG5/VIR7229_6m0j_dms-view_data.csv\n",
      "Writing `dms-view` input file for S2K146 mapped to PDB 6m0j to results/supp_data/Omicron_EG5/S2K146_6m0j_dms-view_data.csv\n",
      "Writing `dms-view` input file for S2V29_parent mapped to PDB 6m0j to results/supp_data/Omicron_EG5/S2V29_parent_6m0j_dms-view_data.csv\n"
     ]
    }
   ],
   "source": [
    "for set_name, condition_set in condition_sets.items():\n",
    "    \n",
    "    for pdb_name, pdb_specs in output_pdbs_config.items():\n",
    "        \n",
    "        # get all conditions for this set to be written to this PDB\n",
    "        if isinstance(pdb_specs['conditions'], str) and pdb_specs['conditions'].upper() == 'ALL':\n",
    "            pdb_conditions = condition_set\n",
    "        else:\n",
    "            assert isinstance(pdb_specs['conditions'], list)\n",
    "            pdb_conditions = [condition for condition in condition_set\n",
    "                              if condition in pdb_specs['conditions']]\n",
    "        if not pdb_conditions:\n",
    "            continue\n",
    "            \n",
    "        df = (dms_view_df\n",
    "              .query('condition in @pdb_conditions')\n",
    "              .assign(condition=lambda x: x['condition'].map(condition_set))  # re-name to shorter names\n",
    "              )\n",
    "        \n",
    "        # assign all relevant protein chains\n",
    "        cols = df.columns.tolist()\n",
    "        i = cols.index('protein_site')  # add protein chain column here\n",
    "        newcols = cols[: i] + ['protein_chain'] + cols[i: ]\n",
    "        chains = ' '.join(pdb_specs['chains'])\n",
    "        df = df.assign(protein_chain=chains)[newcols]\n",
    "   \n",
    "        csv_file = os.path.join(config['supp_data_dir_Omicron_EG5'], f\"{set_name}_{pdb_name}_dms-view_data.csv\")\n",
    "        print(f\"Writing `dms-view` input file for {set_name} mapped to PDB {pdb_name} to {csv_file}\")\n",
    "        df.to_csv(csv_file, index=False, float_format='%.4g')"
   ]
  },
  {
   "cell_type": "code",
   "execution_count": null,
   "metadata": {},
   "outputs": [],
   "source": []
  }
 ],
 "metadata": {
  "kernelspec": {
   "display_name": "Python 3 (ipykernel)",
   "language": "python",
   "name": "python3"
  },
  "language_info": {
   "codemirror_mode": {
    "name": "ipython",
    "version": 3
   },
   "file_extension": ".py",
   "mimetype": "text/x-python",
   "name": "python",
   "nbconvert_exporter": "python",
   "pygments_lexer": "ipython3",
   "version": "3.8.15"
  }
 },
 "nbformat": 4,
 "nbformat_minor": 4
}
