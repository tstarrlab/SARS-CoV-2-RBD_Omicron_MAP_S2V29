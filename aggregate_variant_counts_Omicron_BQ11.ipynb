{
 "cells": [
  {
   "cell_type": "markdown",
   "metadata": {},
   "source": [
    "# Aggregate variant counts for all samples\n",
    "Separate `Snakemake` rules count the observations of each variant in each sample from the Illumina barcode sequencing.\n",
    "This Python Jupyter notebook aggregates all of this counts, and then adds them to a codon variant table."
   ]
  },
  {
   "cell_type": "markdown",
   "metadata": {},
   "source": [
    "## Set up analysis\n",
    "### Import Python modules.\n",
    "Use [plotnine](https://plotnine.readthedocs.io/en/stable/) for ggplot2-like plotting.\n",
    "\n",
    "The analysis relies heavily on the Bloom lab's [dms_variants](https://jbloomlab.github.io/dms_variants) package:"
   ]
  },
  {
   "cell_type": "code",
   "execution_count": 1,
   "metadata": {
    "execution": {
     "iopub.execute_input": "2023-09-21T00:56:01.599830Z",
     "iopub.status.busy": "2023-09-21T00:56:01.599429Z",
     "iopub.status.idle": "2023-09-21T00:56:08.076913Z",
     "shell.execute_reply": "2023-09-21T00:56:08.076110Z"
    }
   },
   "outputs": [],
   "source": [
    "import glob\n",
    "import itertools\n",
    "import math\n",
    "import os\n",
    "import warnings\n",
    "\n",
    "import Bio.SeqIO\n",
    "\n",
    "import dms_variants.codonvarianttable\n",
    "from dms_variants.constants import CBPALETTE\n",
    "import dms_variants.utils\n",
    "import dms_variants.plotnine_themes\n",
    "\n",
    "from IPython.display import display, HTML\n",
    "\n",
    "import pandas as pd\n",
    "\n",
    "from plotnine import *\n",
    "\n",
    "import yaml"
   ]
  },
  {
   "cell_type": "markdown",
   "metadata": {},
   "source": [
    "Set [plotnine](https://plotnine.readthedocs.io/en/stable/) theme to the gray-grid one defined in `dms_variants`:"
   ]
  },
  {
   "cell_type": "code",
   "execution_count": 2,
   "metadata": {
    "execution": {
     "iopub.execute_input": "2023-09-21T00:56:08.080889Z",
     "iopub.status.busy": "2023-09-21T00:56:08.080411Z",
     "iopub.status.idle": "2023-09-21T00:56:08.086260Z",
     "shell.execute_reply": "2023-09-21T00:56:08.085562Z"
    }
   },
   "outputs": [],
   "source": [
    "theme_set(dms_variants.plotnine_themes.theme_graygrid())"
   ]
  },
  {
   "cell_type": "markdown",
   "metadata": {},
   "source": [
    "Versions of key software:"
   ]
  },
  {
   "cell_type": "code",
   "execution_count": 3,
   "metadata": {
    "execution": {
     "iopub.execute_input": "2023-09-21T00:56:08.089539Z",
     "iopub.status.busy": "2023-09-21T00:56:08.089135Z",
     "iopub.status.idle": "2023-09-21T00:56:08.093240Z",
     "shell.execute_reply": "2023-09-21T00:56:08.092536Z"
    }
   },
   "outputs": [
    {
     "name": "stdout",
     "output_type": "stream",
     "text": [
      "Using dms_variants version 1.4.3\n"
     ]
    }
   ],
   "source": [
    "print(f\"Using dms_variants version {dms_variants.__version__}\")"
   ]
  },
  {
   "cell_type": "markdown",
   "metadata": {},
   "source": [
    "Ignore warnings that clutter output:"
   ]
  },
  {
   "cell_type": "code",
   "execution_count": 4,
   "metadata": {
    "execution": {
     "iopub.execute_input": "2023-09-21T00:56:08.161829Z",
     "iopub.status.busy": "2023-09-21T00:56:08.161249Z",
     "iopub.status.idle": "2023-09-21T00:56:08.164823Z",
     "shell.execute_reply": "2023-09-21T00:56:08.164122Z"
    }
   },
   "outputs": [],
   "source": [
    "warnings.simplefilter('ignore')"
   ]
  },
  {
   "cell_type": "markdown",
   "metadata": {},
   "source": [
    "Read the configuration file:"
   ]
  },
  {
   "cell_type": "code",
   "execution_count": 5,
   "metadata": {
    "execution": {
     "iopub.execute_input": "2023-09-21T00:56:08.168053Z",
     "iopub.status.busy": "2023-09-21T00:56:08.167651Z",
     "iopub.status.idle": "2023-09-21T00:56:08.217433Z",
     "shell.execute_reply": "2023-09-21T00:56:08.216733Z"
    }
   },
   "outputs": [],
   "source": [
    "with open('config.yaml') as f:\n",
    "    config = yaml.safe_load(f)"
   ]
  },
  {
   "cell_type": "markdown",
   "metadata": {},
   "source": [
    "Make output directory if needed:"
   ]
  },
  {
   "cell_type": "code",
   "execution_count": 6,
   "metadata": {
    "execution": {
     "iopub.execute_input": "2023-09-21T00:56:08.220661Z",
     "iopub.status.busy": "2023-09-21T00:56:08.220255Z",
     "iopub.status.idle": "2023-09-21T00:56:08.227813Z",
     "shell.execute_reply": "2023-09-21T00:56:08.227116Z"
    }
   },
   "outputs": [],
   "source": [
    "os.makedirs(config['counts_dir_Omicron_BQ11'], exist_ok=True)"
   ]
  },
  {
   "cell_type": "markdown",
   "metadata": {},
   "source": [
    "## Initialize codon variant table\n",
    "Initialize the [CodonVariantTable](https://jbloomlab.github.io/dms_variants/dms_variants.codonvarianttable.html#dms_variants.codonvarianttable.CodonVariantTable) using the wildtype gene sequence and the CSV file with the table of variants:"
   ]
  },
  {
   "cell_type": "code",
   "execution_count": 7,
   "metadata": {
    "execution": {
     "iopub.execute_input": "2023-09-21T00:56:08.231022Z",
     "iopub.status.busy": "2023-09-21T00:56:08.230624Z",
     "iopub.status.idle": "2023-09-21T00:56:17.626523Z",
     "shell.execute_reply": "2023-09-21T00:56:17.625713Z"
    }
   },
   "outputs": [
    {
     "name": "stdout",
     "output_type": "stream",
     "text": [
      "Read sequence of 603 nt for Omicron_BQ11 from data/wildtype_sequence_Omicron_BQ11.fasta\n",
      "Initializing CodonVariantTable from gene sequence and data/codon_variant_table_Omicron_BQ11.csv\n"
     ]
    }
   ],
   "source": [
    "wt_seqrecord = Bio.SeqIO.read(config['wildtype_sequence_Omicron_BQ11'], 'fasta')\n",
    "geneseq = str(wt_seqrecord.seq)\n",
    "primary_target = wt_seqrecord.name\n",
    "print(f\"Read sequence of {len(geneseq)} nt for {primary_target} from {config['wildtype_sequence_Omicron_BQ11']}\")\n",
    "      \n",
    "print(f\"Initializing CodonVariantTable from gene sequence and {config['bc_variant_lookup_Omicron_BQ11']}\")\n",
    "     \n",
    "variants = dms_variants.codonvarianttable.CodonVariantTable(\n",
    "                geneseq=geneseq,\n",
    "                barcode_variant_file=config['bc_variant_lookup_Omicron_BQ11'],\n",
    "                substitutions_are_codon=True,\n",
    "                substitutions_col='codon_substitutions',\n",
    "                primary_target=primary_target,\n",
    "                allowgaps=True)"
   ]
  },
  {
   "cell_type": "markdown",
   "metadata": {},
   "source": [
    "## Read barcode counts / fates\n",
    "Read data frame with list of all samples (barcode runs):"
   ]
  },
  {
   "cell_type": "code",
   "execution_count": 8,
   "metadata": {
    "execution": {
     "iopub.execute_input": "2023-09-21T00:56:17.630303Z",
     "iopub.status.busy": "2023-09-21T00:56:17.629945Z",
     "iopub.status.idle": "2023-09-21T00:56:17.680132Z",
     "shell.execute_reply": "2023-09-21T00:56:17.679386Z"
    }
   },
   "outputs": [
    {
     "name": "stdout",
     "output_type": "stream",
     "text": [
      "Reading list of barcode runs from data/barcode_runs_Omicron_BQ11.csv\n"
     ]
    },
    {
     "data": {
      "text/html": [
       "<table border=\"1\" class=\"dataframe\">\n",
       "  <thead>\n",
       "    <tr style=\"text-align: right;\">\n",
       "      <th>date</th>\n",
       "      <th>experiment</th>\n",
       "      <th>target</th>\n",
       "      <th>library</th>\n",
       "      <th>antibody</th>\n",
       "      <th>concentration</th>\n",
       "      <th>sort_bin</th>\n",
       "      <th>selection</th>\n",
       "      <th>sample</th>\n",
       "      <th>experiment_type</th>\n",
       "      <th>number_cells</th>\n",
       "      <th>frac_escape</th>\n",
       "      <th>sample_lib</th>\n",
       "      <th>counts_file</th>\n",
       "      <th>fates_file</th>\n",
       "    </tr>\n",
       "  </thead>\n",
       "  <tbody>\n",
       "    <tr>\n",
       "      <td>230622</td>\n",
       "      <td>exptREF2</td>\n",
       "      <td>Omicron_BQ11</td>\n",
       "      <td>lib57</td>\n",
       "      <td>none</td>\n",
       "      <td>0</td>\n",
       "      <td>ref</td>\n",
       "      <td>reference</td>\n",
       "      <td>exptREF2-none-0-ref</td>\n",
       "      <td>ab_selection</td>\n",
       "      <td>NaN</td>\n",
       "      <td>NaN</td>\n",
       "      <td>exptREF2-none-0-ref_lib57</td>\n",
       "      <td>results/counts/Omicron_BQ11/exptREF2-none-0-ref_lib57_counts.csv</td>\n",
       "      <td>results/counts/Omicron_BQ11/exptREF2-none-0-ref_lib57_fates.csv</td>\n",
       "    </tr>\n",
       "    <tr>\n",
       "      <td>230622</td>\n",
       "      <td>exptREF2</td>\n",
       "      <td>Omicron_BQ11</td>\n",
       "      <td>lib58</td>\n",
       "      <td>none</td>\n",
       "      <td>0</td>\n",
       "      <td>ref</td>\n",
       "      <td>reference</td>\n",
       "      <td>exptREF2-none-0-ref</td>\n",
       "      <td>ab_selection</td>\n",
       "      <td>NaN</td>\n",
       "      <td>NaN</td>\n",
       "      <td>exptREF2-none-0-ref_lib58</td>\n",
       "      <td>results/counts/Omicron_BQ11/exptREF2-none-0-ref_lib58_counts.csv</td>\n",
       "      <td>results/counts/Omicron_BQ11/exptREF2-none-0-ref_lib58_fates.csv</td>\n",
       "    </tr>\n",
       "    <tr>\n",
       "      <td>230622</td>\n",
       "      <td>expt1</td>\n",
       "      <td>Omicron_BQ11</td>\n",
       "      <td>lib57</td>\n",
       "      <td>S2V29_v37_2</td>\n",
       "      <td>52</td>\n",
       "      <td>abneg</td>\n",
       "      <td>escape</td>\n",
       "      <td>expt1-S2V29_v37_2-52-abneg</td>\n",
       "      <td>ab_selection</td>\n",
       "      <td>328000.0</td>\n",
       "      <td>0.082</td>\n",
       "      <td>expt1-S2V29_v37_2-52-abneg_lib57</td>\n",
       "      <td>results/counts/Omicron_BQ11/expt1-S2V29_v37_2-52-abneg_lib57_counts.csv</td>\n",
       "      <td>results/counts/Omicron_BQ11/expt1-S2V29_v37_2-52-abneg_lib57_fates.csv</td>\n",
       "    </tr>\n",
       "    <tr>\n",
       "      <td>230622</td>\n",
       "      <td>expt1</td>\n",
       "      <td>Omicron_BQ11</td>\n",
       "      <td>lib58</td>\n",
       "      <td>S2V29_v37_2</td>\n",
       "      <td>52</td>\n",
       "      <td>abneg</td>\n",
       "      <td>escape</td>\n",
       "      <td>expt1-S2V29_v37_2-52-abneg</td>\n",
       "      <td>ab_selection</td>\n",
       "      <td>264000.0</td>\n",
       "      <td>0.066</td>\n",
       "      <td>expt1-S2V29_v37_2-52-abneg_lib58</td>\n",
       "      <td>results/counts/Omicron_BQ11/expt1-S2V29_v37_2-52-abneg_lib58_counts.csv</td>\n",
       "      <td>results/counts/Omicron_BQ11/expt1-S2V29_v37_2-52-abneg_lib58_fates.csv</td>\n",
       "    </tr>\n",
       "    <tr>\n",
       "      <td>230615</td>\n",
       "      <td>exptREF</td>\n",
       "      <td>Omicron_BQ11</td>\n",
       "      <td>lib57</td>\n",
       "      <td>none</td>\n",
       "      <td>0</td>\n",
       "      <td>ref</td>\n",
       "      <td>reference</td>\n",
       "      <td>exptREF-none-0-ref</td>\n",
       "      <td>ab_selection</td>\n",
       "      <td>NaN</td>\n",
       "      <td>NaN</td>\n",
       "      <td>exptREF-none-0-ref_lib57</td>\n",
       "      <td>results/counts/Omicron_BQ11/exptREF-none-0-ref_lib57_counts.csv</td>\n",
       "      <td>results/counts/Omicron_BQ11/exptREF-none-0-ref_lib57_fates.csv</td>\n",
       "    </tr>\n",
       "    <tr>\n",
       "      <td>230615</td>\n",
       "      <td>exptREF</td>\n",
       "      <td>Omicron_BQ11</td>\n",
       "      <td>lib58</td>\n",
       "      <td>none</td>\n",
       "      <td>0</td>\n",
       "      <td>ref</td>\n",
       "      <td>reference</td>\n",
       "      <td>exptREF-none-0-ref</td>\n",
       "      <td>ab_selection</td>\n",
       "      <td>NaN</td>\n",
       "      <td>NaN</td>\n",
       "      <td>exptREF-none-0-ref_lib58</td>\n",
       "      <td>results/counts/Omicron_BQ11/exptREF-none-0-ref_lib58_counts.csv</td>\n",
       "      <td>results/counts/Omicron_BQ11/exptREF-none-0-ref_lib58_fates.csv</td>\n",
       "    </tr>\n",
       "    <tr>\n",
       "      <td>230615</td>\n",
       "      <td>expt1</td>\n",
       "      <td>Omicron_BQ11</td>\n",
       "      <td>lib57</td>\n",
       "      <td>S2K146</td>\n",
       "      <td>222</td>\n",
       "      <td>abneg</td>\n",
       "      <td>escape</td>\n",
       "      <td>expt1-S2K146-222-abneg</td>\n",
       "      <td>ab_selection</td>\n",
       "      <td>860000.0</td>\n",
       "      <td>0.215</td>\n",
       "      <td>expt1-S2K146-222-abneg_lib57</td>\n",
       "      <td>results/counts/Omicron_BQ11/expt1-S2K146-222-abneg_lib57_counts.csv</td>\n",
       "      <td>results/counts/Omicron_BQ11/expt1-S2K146-222-abneg_lib57_fates.csv</td>\n",
       "    </tr>\n",
       "    <tr>\n",
       "      <td>230615</td>\n",
       "      <td>expt1</td>\n",
       "      <td>Omicron_BQ11</td>\n",
       "      <td>lib58</td>\n",
       "      <td>S2K146</td>\n",
       "      <td>222</td>\n",
       "      <td>abneg</td>\n",
       "      <td>escape</td>\n",
       "      <td>expt1-S2K146-222-abneg</td>\n",
       "      <td>ab_selection</td>\n",
       "      <td>896000.0</td>\n",
       "      <td>0.224</td>\n",
       "      <td>expt1-S2K146-222-abneg_lib58</td>\n",
       "      <td>results/counts/Omicron_BQ11/expt1-S2K146-222-abneg_lib58_counts.csv</td>\n",
       "      <td>results/counts/Omicron_BQ11/expt1-S2K146-222-abneg_lib58_fates.csv</td>\n",
       "    </tr>\n",
       "  </tbody>\n",
       "</table>"
      ],
      "text/plain": [
       "<IPython.core.display.HTML object>"
      ]
     },
     "metadata": {},
     "output_type": "display_data"
    }
   ],
   "source": [
    "print(f\"Reading list of barcode runs from {config['barcode_runs_Omicron_BQ11']}\")\n",
    "\n",
    "barcode_runs = (pd.read_csv(config['barcode_runs_Omicron_BQ11'])\n",
    "                .assign(sample_lib=lambda x: x['sample'] + '_' + x['library'],\n",
    "                        counts_file=lambda x: config['counts_dir_Omicron_BQ11'] + '/' + x['sample_lib'] + '_counts.csv',\n",
    "                        fates_file=lambda x: config['counts_dir_Omicron_BQ11'] + '/' + x['sample_lib'] + '_fates.csv',\n",
    "                        )\n",
    "                .drop(columns='R1')  # don't need this column, and very large\n",
    "                )\n",
    "\n",
    "assert all(map(os.path.isfile, barcode_runs['counts_file'])), 'missing some counts files'\n",
    "assert all(map(os.path.isfile, barcode_runs['fates_file'])), 'missing some fates files'\n",
    "\n",
    "display(HTML(barcode_runs.to_html(index=False)))"
   ]
  },
  {
   "cell_type": "markdown",
   "metadata": {},
   "source": [
    "Confirm sample / library combinations unique:"
   ]
  },
  {
   "cell_type": "code",
   "execution_count": 9,
   "metadata": {
    "execution": {
     "iopub.execute_input": "2023-09-21T00:56:17.683454Z",
     "iopub.status.busy": "2023-09-21T00:56:17.683043Z",
     "iopub.status.idle": "2023-09-21T00:56:17.689130Z",
     "shell.execute_reply": "2023-09-21T00:56:17.688379Z"
    }
   },
   "outputs": [],
   "source": [
    "assert len(barcode_runs) == len(barcode_runs.groupby(['sample', 'library']))"
   ]
  },
  {
   "cell_type": "markdown",
   "metadata": {},
   "source": [
    "Make sure the the libraries for which we have barcode runs are all in our variant table:"
   ]
  },
  {
   "cell_type": "code",
   "execution_count": 10,
   "metadata": {
    "execution": {
     "iopub.execute_input": "2023-09-21T00:56:17.692359Z",
     "iopub.status.busy": "2023-09-21T00:56:17.691962Z",
     "iopub.status.idle": "2023-09-21T00:56:17.696065Z",
     "shell.execute_reply": "2023-09-21T00:56:17.695375Z"
    }
   },
   "outputs": [],
   "source": [
    "unknown_libs = set(barcode_runs['library']) - set(variants.libraries)\n",
    "if unknown_libs:\n",
    "    raise ValueError(f\"Libraries with barcode runs not in variant table: {unknown_libs}\")"
   ]
  },
  {
   "cell_type": "markdown",
   "metadata": {},
   "source": [
    "Now concatenate the barcode counts and fates for each sample:"
   ]
  },
  {
   "cell_type": "code",
   "execution_count": 11,
   "metadata": {
    "execution": {
     "iopub.execute_input": "2023-09-21T00:56:17.699293Z",
     "iopub.status.busy": "2023-09-21T00:56:17.698894Z",
     "iopub.status.idle": "2023-09-21T00:56:19.548194Z",
     "shell.execute_reply": "2023-09-21T00:56:19.547413Z"
    }
   },
   "outputs": [
    {
     "name": "stdout",
     "output_type": "stream",
     "text": [
      "First few lines of counts data frame:\n"
     ]
    },
    {
     "data": {
      "text/html": [
       "<table border=\"1\" class=\"dataframe\">\n",
       "  <thead>\n",
       "    <tr style=\"text-align: right;\">\n",
       "      <th>barcode</th>\n",
       "      <th>count</th>\n",
       "      <th>library</th>\n",
       "      <th>sample</th>\n",
       "    </tr>\n",
       "  </thead>\n",
       "  <tbody>\n",
       "    <tr>\n",
       "      <td>AAGGAAAATATTAACT</td>\n",
       "      <td>16331</td>\n",
       "      <td>lib57</td>\n",
       "      <td>exptREF2-none-0-ref</td>\n",
       "    </tr>\n",
       "    <tr>\n",
       "      <td>AGCCTTCTATCAGCTA</td>\n",
       "      <td>15834</td>\n",
       "      <td>lib57</td>\n",
       "      <td>exptREF2-none-0-ref</td>\n",
       "    </tr>\n",
       "    <tr>\n",
       "      <td>GGCTGATATAACCCCA</td>\n",
       "      <td>15174</td>\n",
       "      <td>lib57</td>\n",
       "      <td>exptREF2-none-0-ref</td>\n",
       "    </tr>\n",
       "    <tr>\n",
       "      <td>TAGAAAGGATGAATAA</td>\n",
       "      <td>13361</td>\n",
       "      <td>lib57</td>\n",
       "      <td>exptREF2-none-0-ref</td>\n",
       "    </tr>\n",
       "    <tr>\n",
       "      <td>TTATCTGTCACACCCC</td>\n",
       "      <td>12387</td>\n",
       "      <td>lib57</td>\n",
       "      <td>exptREF2-none-0-ref</td>\n",
       "    </tr>\n",
       "  </tbody>\n",
       "</table>"
      ],
      "text/plain": [
       "<IPython.core.display.HTML object>"
      ]
     },
     "metadata": {},
     "output_type": "display_data"
    },
    {
     "name": "stdout",
     "output_type": "stream",
     "text": [
      "First few lines of fates data frame:\n"
     ]
    },
    {
     "data": {
      "text/html": [
       "<table border=\"1\" class=\"dataframe\">\n",
       "  <thead>\n",
       "    <tr style=\"text-align: right;\">\n",
       "      <th>fate</th>\n",
       "      <th>count</th>\n",
       "      <th>library</th>\n",
       "      <th>sample</th>\n",
       "    </tr>\n",
       "  </thead>\n",
       "  <tbody>\n",
       "    <tr>\n",
       "      <td>valid barcode</td>\n",
       "      <td>29441973</td>\n",
       "      <td>lib57</td>\n",
       "      <td>exptREF2-none-0-ref</td>\n",
       "    </tr>\n",
       "    <tr>\n",
       "      <td>invalid barcode</td>\n",
       "      <td>4964855</td>\n",
       "      <td>lib57</td>\n",
       "      <td>exptREF2-none-0-ref</td>\n",
       "    </tr>\n",
       "    <tr>\n",
       "      <td>low quality barcode</td>\n",
       "      <td>2573180</td>\n",
       "      <td>lib57</td>\n",
       "      <td>exptREF2-none-0-ref</td>\n",
       "    </tr>\n",
       "    <tr>\n",
       "      <td>unparseable barcode</td>\n",
       "      <td>856273</td>\n",
       "      <td>lib57</td>\n",
       "      <td>exptREF2-none-0-ref</td>\n",
       "    </tr>\n",
       "    <tr>\n",
       "      <td>failed chastity filter</td>\n",
       "      <td>0</td>\n",
       "      <td>lib57</td>\n",
       "      <td>exptREF2-none-0-ref</td>\n",
       "    </tr>\n",
       "  </tbody>\n",
       "</table>"
      ],
      "text/plain": [
       "<IPython.core.display.HTML object>"
      ]
     },
     "metadata": {},
     "output_type": "display_data"
    }
   ],
   "source": [
    "counts = pd.concat([pd.read_csv(f) for f in barcode_runs['counts_file']],\n",
    "                   sort=False,\n",
    "                   ignore_index=True)\n",
    "\n",
    "print('First few lines of counts data frame:')\n",
    "display(HTML(counts.head().to_html(index=False)))\n",
    "\n",
    "fates = pd.concat([pd.read_csv(f) for f in barcode_runs['fates_file']],\n",
    "                  sort=False,\n",
    "                  ignore_index=True)\n",
    "\n",
    "print('First few lines of fates data frame:')\n",
    "display(HTML(fates.head().to_html(index=False)))"
   ]
  },
  {
   "cell_type": "markdown",
   "metadata": {},
   "source": [
    "## Examine fates of parsed barcodes\n",
    "First, we'll analyze the \"fates\" of the parsed barcodes.\n",
    "These fates represent what happened to each Illumina read we parsed:\n",
    " - Did the barcode read fail the Illumina chastity filter?\n",
    " - Was the barcode *unparseable* (i.e., the read didn't appear to be a valid barcode based on flanking regions)?\n",
    " - Was the barcode sequence too *low quality* based on the Illumina quality scores?\n",
    " - Was the barcode parseable but *invalid* (i.e., not in our list of variant-associated barcodes in the codon variant table)?\n",
    " - Was the barcode *valid*, and so will be added to variant counts.\n",
    " \n",
    "First, we just write a CSV file with all the barcode fates:"
   ]
  },
  {
   "cell_type": "code",
   "execution_count": 12,
   "metadata": {
    "execution": {
     "iopub.execute_input": "2023-09-21T00:56:19.551589Z",
     "iopub.status.busy": "2023-09-21T00:56:19.551244Z",
     "iopub.status.idle": "2023-09-21T00:56:19.563607Z",
     "shell.execute_reply": "2023-09-21T00:56:19.562895Z"
    }
   },
   "outputs": [
    {
     "name": "stdout",
     "output_type": "stream",
     "text": [
      "Writing barcode fates to results/counts/Omicron_BQ11/barcode_fates.csv\n"
     ]
    }
   ],
   "source": [
    "fatesfile = os.path.join(config['counts_dir_Omicron_BQ11'], 'barcode_fates.csv')\n",
    "print(f\"Writing barcode fates to {fatesfile}\")\n",
    "fates.to_csv(fatesfile, index=False)"
   ]
  },
  {
   "cell_type": "markdown",
   "metadata": {},
   "source": [
    "Next, we tabulate the barcode fates in wide format:"
   ]
  },
  {
   "cell_type": "code",
   "execution_count": 13,
   "metadata": {
    "execution": {
     "iopub.execute_input": "2023-09-21T00:56:19.567023Z",
     "iopub.status.busy": "2023-09-21T00:56:19.566495Z",
     "iopub.status.idle": "2023-09-21T00:56:19.594901Z",
     "shell.execute_reply": "2023-09-21T00:56:19.594214Z"
    }
   },
   "outputs": [
    {
     "data": {
      "text/html": [
       "<table border=\"1\" class=\"dataframe\">\n",
       "  <thead>\n",
       "    <tr style=\"text-align: right;\">\n",
       "      <th></th>\n",
       "      <th>fate</th>\n",
       "      <th>failed chastity filter</th>\n",
       "      <th>invalid barcode</th>\n",
       "      <th>low quality barcode</th>\n",
       "      <th>unparseable barcode</th>\n",
       "      <th>valid barcode</th>\n",
       "    </tr>\n",
       "    <tr>\n",
       "      <th>sample</th>\n",
       "      <th>library</th>\n",
       "      <th></th>\n",
       "      <th></th>\n",
       "      <th></th>\n",
       "      <th></th>\n",
       "      <th></th>\n",
       "    </tr>\n",
       "  </thead>\n",
       "  <tbody>\n",
       "    <tr>\n",
       "      <th rowspan=\"2\" valign=\"top\">expt1-S2K146-222-abneg</th>\n",
       "      <th>lib57</th>\n",
       "      <td>0.0e+00</td>\n",
       "      <td>4.0e+05</td>\n",
       "      <td>2.2e+05</td>\n",
       "      <td>7.2e+04</td>\n",
       "      <td>2.5e+06</td>\n",
       "    </tr>\n",
       "    <tr>\n",
       "      <th>lib58</th>\n",
       "      <td>0.0e+00</td>\n",
       "      <td>4.8e+05</td>\n",
       "      <td>2.3e+05</td>\n",
       "      <td>7.6e+04</td>\n",
       "      <td>2.7e+06</td>\n",
       "    </tr>\n",
       "    <tr>\n",
       "      <th rowspan=\"2\" valign=\"top\">expt1-S2V29_v37_2-52-abneg</th>\n",
       "      <th>lib57</th>\n",
       "      <td>0.0e+00</td>\n",
       "      <td>1.7e+05</td>\n",
       "      <td>8.7e+04</td>\n",
       "      <td>3.0e+04</td>\n",
       "      <td>1.0e+06</td>\n",
       "    </tr>\n",
       "    <tr>\n",
       "      <th>lib58</th>\n",
       "      <td>0.0e+00</td>\n",
       "      <td>1.4e+05</td>\n",
       "      <td>7.0e+04</td>\n",
       "      <td>2.4e+04</td>\n",
       "      <td>8.1e+05</td>\n",
       "    </tr>\n",
       "    <tr>\n",
       "      <th rowspan=\"2\" valign=\"top\">exptREF-none-0-ref</th>\n",
       "      <th>lib57</th>\n",
       "      <td>0.0e+00</td>\n",
       "      <td>5.0e+06</td>\n",
       "      <td>2.6e+06</td>\n",
       "      <td>8.6e+05</td>\n",
       "      <td>2.9e+07</td>\n",
       "    </tr>\n",
       "    <tr>\n",
       "      <th>lib58</th>\n",
       "      <td>0.0e+00</td>\n",
       "      <td>5.6e+06</td>\n",
       "      <td>2.5e+06</td>\n",
       "      <td>8.4e+05</td>\n",
       "      <td>2.9e+07</td>\n",
       "    </tr>\n",
       "    <tr>\n",
       "      <th rowspan=\"2\" valign=\"top\">exptREF2-none-0-ref</th>\n",
       "      <th>lib57</th>\n",
       "      <td>0.0e+00</td>\n",
       "      <td>5.0e+06</td>\n",
       "      <td>2.6e+06</td>\n",
       "      <td>8.6e+05</td>\n",
       "      <td>2.9e+07</td>\n",
       "    </tr>\n",
       "    <tr>\n",
       "      <th>lib58</th>\n",
       "      <td>0.0e+00</td>\n",
       "      <td>5.6e+06</td>\n",
       "      <td>2.5e+06</td>\n",
       "      <td>8.4e+05</td>\n",
       "      <td>2.9e+07</td>\n",
       "    </tr>\n",
       "  </tbody>\n",
       "</table>"
      ],
      "text/plain": [
       "<IPython.core.display.HTML object>"
      ]
     },
     "metadata": {},
     "output_type": "display_data"
    }
   ],
   "source": [
    "display(HTML(fates\n",
    "             .pivot_table(columns='fate',\n",
    "                          values='count',\n",
    "                          index=['sample', 'library'])\n",
    "             .applymap('{:.1e}'.format)  # scientific notation\n",
    "             .to_html()\n",
    "             ))"
   ]
  },
  {
   "cell_type": "markdown",
   "metadata": {},
   "source": [
    "Now we plot the barcode-read fates for each library / sample, showing the bars for valid barcodes in orange and the others in gray.\n",
    "We see that the largest fraction of barcode reads correspond to valid barcodes, and most of the others are invalid barcodes (probably because the map to variants that aren't present in our variant table since we didn't associate all variants with barcodes). The exception to this is lib2 Titeseq_03_bin3; the PCR for this sample in the original sequencing run failed, so we followed it up with a single MiSeq lane. We did not filter out the PhiX reads from this data before parsing, so these PhiX reads will deflate the fraction of valid barcode reads as expected, but does not indicate any problems."
   ]
  },
  {
   "cell_type": "code",
   "execution_count": 14,
   "metadata": {
    "execution": {
     "iopub.execute_input": "2023-09-21T00:56:19.598178Z",
     "iopub.status.busy": "2023-09-21T00:56:19.597773Z",
     "iopub.status.idle": "2023-09-21T00:56:21.674151Z",
     "shell.execute_reply": "2023-09-21T00:56:21.673424Z"
    }
   },
   "outputs": [
    {
     "data": {
      "image/png": "[encoded data removed]",
      "text/plain": [
       "<Figure size 1300x400 with 8 Axes>"
      ]
     },
     "metadata": {},
     "output_type": "display_data"
    }
   ],
   "source": [
    "ncol = 4\n",
    "nfacets = len(fates.groupby(['sample', 'library']))\n",
    "\n",
    "barcode_fate_plot = (\n",
    "    ggplot(\n",
    "        fates\n",
    "        .assign(sample=lambda x: pd.Categorical(x['sample'],\n",
    "                                                x['sample'].unique(),\n",
    "                                                ordered=True),\n",
    "                fate=lambda x: pd.Categorical(x['fate'],\n",
    "                                              x['fate'].unique(),\n",
    "                                              ordered=True),\n",
    "                is_valid=lambda x: x['fate'] == 'valid barcode'\n",
    "                ), \n",
    "        aes('fate', 'count', fill='is_valid')) +\n",
    "    geom_bar(stat='identity') +\n",
    "    facet_wrap('~ sample + library', ncol=ncol) +\n",
    "    scale_fill_manual(CBPALETTE, guide=False) +\n",
    "    theme(figure_size=(3.25 * ncol, 2 * math.ceil(nfacets / ncol)),\n",
    "          axis_text_x=element_text(angle=90),\n",
    "          panel_grid_major_x=element_blank()\n",
    "          ) +\n",
    "    scale_y_continuous(labels=dms_variants.utils.latex_sci_not,\n",
    "                       name='number of reads')\n",
    "    )\n",
    "\n",
    "_ = barcode_fate_plot.draw()"
   ]
  },
  {
   "cell_type": "markdown",
   "metadata": {},
   "source": [
    "## Add barcode counts to variant table\n",
    "Now we use the [CodonVariantTable.add_sample_counts_df](https://jbloomlab.github.io/dms_variants/dms_variants.codonvarianttable.html#dms_variants.codonvarianttable.CodonVariantTable.add_sample_counts_df) method to add the barcode counts to the variant table:"
   ]
  },
  {
   "cell_type": "code",
   "execution_count": 15,
   "metadata": {
    "execution": {
     "iopub.execute_input": "2023-09-21T00:56:21.677794Z",
     "iopub.status.busy": "2023-09-21T00:56:21.677184Z",
     "iopub.status.idle": "2023-09-21T00:56:26.211814Z",
     "shell.execute_reply": "2023-09-21T00:56:26.211004Z"
    }
   },
   "outputs": [],
   "source": [
    "variants.add_sample_counts_df(counts)"
   ]
  },
  {
   "cell_type": "markdown",
   "metadata": {},
   "source": [
    "The variant table now has a `variant_count_df` attribute that gives a data frame of all the variant counts.\n",
    "Here are the first few lines:"
   ]
  },
  {
   "cell_type": "code",
   "execution_count": 16,
   "metadata": {
    "execution": {
     "iopub.execute_input": "2023-09-21T00:56:26.215445Z",
     "iopub.status.busy": "2023-09-21T00:56:26.215092Z",
     "iopub.status.idle": "2023-09-21T00:56:26.225938Z",
     "shell.execute_reply": "2023-09-21T00:56:26.225202Z"
    }
   },
   "outputs": [
    {
     "data": {
      "text/html": [
       "<table border=\"1\" class=\"dataframe\">\n",
       "  <thead>\n",
       "    <tr style=\"text-align: right;\">\n",
       "      <th>target</th>\n",
       "      <th>library</th>\n",
       "      <th>sample</th>\n",
       "      <th>barcode</th>\n",
       "      <th>count</th>\n",
       "      <th>variant_call_support</th>\n",
       "      <th>codon_substitutions</th>\n",
       "      <th>aa_substitutions</th>\n",
       "      <th>n_codon_substitutions</th>\n",
       "      <th>n_aa_substitutions</th>\n",
       "    </tr>\n",
       "  </thead>\n",
       "  <tbody>\n",
       "    <tr>\n",
       "      <td>Omicron_BQ11</td>\n",
       "      <td>lib57</td>\n",
       "      <td>exptREF2-none-0-ref</td>\n",
       "      <td>AAGGAAAATATTAACT</td>\n",
       "      <td>16331</td>\n",
       "      <td>239</td>\n",
       "      <td>CCT133---</td>\n",
       "      <td>P133-</td>\n",
       "      <td>1</td>\n",
       "      <td>1</td>\n",
       "    </tr>\n",
       "    <tr>\n",
       "      <td>Omicron_BQ11</td>\n",
       "      <td>lib57</td>\n",
       "      <td>exptREF2-none-0-ref</td>\n",
       "      <td>AGCCTTCTATCAGCTA</td>\n",
       "      <td>15834</td>\n",
       "      <td>246</td>\n",
       "      <td>TTC41TTT TTC185AAT</td>\n",
       "      <td>F185N</td>\n",
       "      <td>2</td>\n",
       "      <td>1</td>\n",
       "    </tr>\n",
       "    <tr>\n",
       "      <td>Omicron_BQ11</td>\n",
       "      <td>lib57</td>\n",
       "      <td>exptREF2-none-0-ref</td>\n",
       "      <td>GGCTGATATAACCCCA</td>\n",
       "      <td>15174</td>\n",
       "      <td>329</td>\n",
       "      <td>AGC53ATT</td>\n",
       "      <td>S53I</td>\n",
       "      <td>1</td>\n",
       "      <td>1</td>\n",
       "    </tr>\n",
       "    <tr>\n",
       "      <td>Omicron_BQ11</td>\n",
       "      <td>lib57</td>\n",
       "      <td>exptREF2-none-0-ref</td>\n",
       "      <td>TAGAAAGGATGAATAA</td>\n",
       "      <td>13361</td>\n",
       "      <td>224</td>\n",
       "      <td>TGC102GAT</td>\n",
       "      <td>C102D</td>\n",
       "      <td>1</td>\n",
       "      <td>1</td>\n",
       "    </tr>\n",
       "    <tr>\n",
       "      <td>Omicron_BQ11</td>\n",
       "      <td>lib57</td>\n",
       "      <td>exptREF2-none-0-ref</td>\n",
       "      <td>TTATCTGTCACACCCC</td>\n",
       "      <td>12387</td>\n",
       "      <td>130</td>\n",
       "      <td>GAC90TGG</td>\n",
       "      <td>D90W</td>\n",
       "      <td>1</td>\n",
       "      <td>1</td>\n",
       "    </tr>\n",
       "  </tbody>\n",
       "</table>"
      ],
      "text/plain": [
       "<IPython.core.display.HTML object>"
      ]
     },
     "metadata": {},
     "output_type": "display_data"
    }
   ],
   "source": [
    "display(HTML(variants.variant_count_df.head().to_html(index=False)))"
   ]
  },
  {
   "cell_type": "markdown",
   "metadata": {},
   "source": [
    "Write the variant counts data frame to a CSV file.\n",
    "It can then be used to re-initialize a [CodonVariantTable](https://jbloomlab.github.io/dms_variants/dms_variants.codonvarianttable.html#dms_variants.codonvarianttable.CodonVariantTable) via its [from_variant_count_df](https://jbloomlab.github.io/dms_variants/dms_variants.codonvarianttable.html#dms_variants.codonvarianttable.CodonVariantTable.from_variant_count_df) method:"
   ]
  },
  {
   "cell_type": "code",
   "execution_count": 17,
   "metadata": {
    "execution": {
     "iopub.execute_input": "2023-09-21T00:56:26.229347Z",
     "iopub.status.busy": "2023-09-21T00:56:26.228813Z",
     "iopub.status.idle": "2023-09-21T00:56:43.808511Z",
     "shell.execute_reply": "2023-09-21T00:56:43.807716Z"
    }
   },
   "outputs": [
    {
     "name": "stdout",
     "output_type": "stream",
     "text": [
      "Writing variant counts to results/counts/Omicron_BQ11/variant_counts.csv.gz\n"
     ]
    }
   ],
   "source": [
    "print(f\"Writing variant counts to {config['variant_counts_Omicron_BQ11']}\")\n",
    "variants.variant_count_df.to_csv(config['variant_counts_Omicron_BQ11'], index=False, compression='gzip')"
   ]
  },
  {
   "cell_type": "markdown",
   "metadata": {},
   "source": [
    "The [CodonVariantTable](https://jbloomlab.github.io/dms_variants/dms_variants.codonvarianttable.html#dms_variants.codonvarianttable.CodonVariantTable) has lots of nice functions that can be used to analyze the counts it contains.\n",
    "However, we do that in the next notebook so we don't have to re-run this entire (rather computationally intensive) notebook every time we want to analyze a new aspect of the counts."
   ]
  }
 ],
 "metadata": {
  "kernelspec": {
   "display_name": "Python 3 (ipykernel)",
   "language": "python",
   "name": "python3"
  },
  "language_info": {
   "codemirror_mode": {
    "name": "ipython",
    "version": 3
   },
   "file_extension": ".py",
   "mimetype": "text/x-python",
   "name": "python",
   "nbconvert_exporter": "python",
   "pygments_lexer": "ipython3",
   "version": "3.8.15"
  }
 },
 "nbformat": 4,
 "nbformat_minor": 4
}
