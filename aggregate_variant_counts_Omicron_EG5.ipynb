{
 "cells": [
  {
   "cell_type": "markdown",
   "metadata": {},
   "source": [
    "# Aggregate variant counts for all samples\n",
    "Separate `Snakemake` rules count the observations of each variant in each sample from the Illumina barcode sequencing.\n",
    "This Python Jupyter notebook aggregates all of this counts, and then adds them to a codon variant table."
   ]
  },
  {
   "cell_type": "markdown",
   "metadata": {},
   "source": [
    "## Set up analysis\n",
    "### Import Python modules.\n",
    "Use [plotnine](https://plotnine.readthedocs.io/en/stable/) for ggplot2-like plotting.\n",
    "\n",
    "The analysis relies heavily on the Bloom lab's [dms_variants](https://jbloomlab.github.io/dms_variants) package:"
   ]
  },
  {
   "cell_type": "code",
   "execution_count": 1,
   "metadata": {
    "execution": {
     "iopub.execute_input": "2024-04-12T23:48:40.391214Z",
     "iopub.status.busy": "2024-04-12T23:48:40.390805Z",
     "iopub.status.idle": "2024-04-12T23:48:43.109642Z",
     "shell.execute_reply": "2024-04-12T23:48:43.108927Z"
    }
   },
   "outputs": [],
   "source": [
    "import glob\n",
    "import itertools\n",
    "import math\n",
    "import os\n",
    "import warnings\n",
    "\n",
    "import Bio.SeqIO\n",
    "\n",
    "import dms_variants.codonvarianttable\n",
    "from dms_variants.constants import CBPALETTE\n",
    "import dms_variants.utils\n",
    "import dms_variants.plotnine_themes\n",
    "\n",
    "from IPython.display import display, HTML\n",
    "\n",
    "import pandas as pd\n",
    "\n",
    "from plotnine import *\n",
    "\n",
    "import yaml\n",
    "\n",
    "%matplotlib inline"
   ]
  },
  {
   "cell_type": "markdown",
   "metadata": {},
   "source": [
    "Set [plotnine](https://plotnine.readthedocs.io/en/stable/) theme to the gray-grid one defined in `dms_variants`:"
   ]
  },
  {
   "cell_type": "code",
   "execution_count": 2,
   "metadata": {
    "execution": {
     "iopub.execute_input": "2024-04-12T23:48:43.113168Z",
     "iopub.status.busy": "2024-04-12T23:48:43.112767Z",
     "iopub.status.idle": "2024-04-12T23:48:43.117229Z",
     "shell.execute_reply": "2024-04-12T23:48:43.116586Z"
    }
   },
   "outputs": [],
   "source": [
    "theme_set(dms_variants.plotnine_themes.theme_graygrid())"
   ]
  },
  {
   "cell_type": "markdown",
   "metadata": {},
   "source": [
    "Versions of key software:"
   ]
  },
  {
   "cell_type": "code",
   "execution_count": 3,
   "metadata": {
    "execution": {
     "iopub.execute_input": "2024-04-12T23:48:43.120396Z",
     "iopub.status.busy": "2024-04-12T23:48:43.119913Z",
     "iopub.status.idle": "2024-04-12T23:48:43.123565Z",
     "shell.execute_reply": "2024-04-12T23:48:43.122934Z"
    }
   },
   "outputs": [
    {
     "name": "stdout",
     "output_type": "stream",
     "text": [
      "Using dms_variants version 1.4.3\n"
     ]
    }
   ],
   "source": [
    "print(f\"Using dms_variants version {dms_variants.__version__}\")"
   ]
  },
  {
   "cell_type": "markdown",
   "metadata": {},
   "source": [
    "Ignore warnings that clutter output:"
   ]
  },
  {
   "cell_type": "code",
   "execution_count": 4,
   "metadata": {
    "execution": {
     "iopub.execute_input": "2024-04-12T23:48:43.179741Z",
     "iopub.status.busy": "2024-04-12T23:48:43.179274Z",
     "iopub.status.idle": "2024-04-12T23:48:43.182342Z",
     "shell.execute_reply": "2024-04-12T23:48:43.181714Z"
    }
   },
   "outputs": [],
   "source": [
    "warnings.simplefilter('ignore')"
   ]
  },
  {
   "cell_type": "markdown",
   "metadata": {},
   "source": [
    "Read the configuration file:"
   ]
  },
  {
   "cell_type": "code",
   "execution_count": 5,
   "metadata": {
    "execution": {
     "iopub.execute_input": "2024-04-12T23:48:43.185315Z",
     "iopub.status.busy": "2024-04-12T23:48:43.184969Z",
     "iopub.status.idle": "2024-04-12T23:48:43.214477Z",
     "shell.execute_reply": "2024-04-12T23:48:43.213851Z"
    }
   },
   "outputs": [],
   "source": [
    "with open('config.yaml') as f:\n",
    "    config = yaml.safe_load(f)"
   ]
  },
  {
   "cell_type": "markdown",
   "metadata": {},
   "source": [
    "Make output directory if needed:"
   ]
  },
  {
   "cell_type": "code",
   "execution_count": 6,
   "metadata": {
    "execution": {
     "iopub.execute_input": "2024-04-12T23:48:43.217560Z",
     "iopub.status.busy": "2024-04-12T23:48:43.217083Z",
     "iopub.status.idle": "2024-04-12T23:48:43.220388Z",
     "shell.execute_reply": "2024-04-12T23:48:43.219764Z"
    }
   },
   "outputs": [],
   "source": [
    "os.makedirs(config['counts_dir_Omicron_EG5'], exist_ok=True)"
   ]
  },
  {
   "cell_type": "markdown",
   "metadata": {},
   "source": [
    "## Initialize codon variant table\n",
    "Initialize the [CodonVariantTable](https://jbloomlab.github.io/dms_variants/dms_variants.codonvarianttable.html#dms_variants.codonvarianttable.CodonVariantTable) using the wildtype gene sequence and the CSV file with the table of variants:"
   ]
  },
  {
   "cell_type": "code",
   "execution_count": 7,
   "metadata": {
    "execution": {
     "iopub.execute_input": "2024-04-12T23:48:43.223362Z",
     "iopub.status.busy": "2024-04-12T23:48:43.223023Z",
     "iopub.status.idle": "2024-04-12T23:48:47.726846Z",
     "shell.execute_reply": "2024-04-12T23:48:47.726097Z"
    }
   },
   "outputs": [
    {
     "name": "stdout",
     "output_type": "stream",
     "text": [
      "Read sequence of 603 nt for Omicron_EG5 from data/wildtype_sequence_Omicron_EG5.fasta\n",
      "Initializing CodonVariantTable from gene sequence and data/codon_variant_table_Omicron_EG5.csv\n"
     ]
    }
   ],
   "source": [
    "wt_seqrecord = Bio.SeqIO.read(config['wildtype_sequence_Omicron_EG5'], 'fasta')\n",
    "geneseq = str(wt_seqrecord.seq)\n",
    "primary_target = wt_seqrecord.name\n",
    "print(f\"Read sequence of {len(geneseq)} nt for {primary_target} from {config['wildtype_sequence_Omicron_EG5']}\")\n",
    "      \n",
    "print(f\"Initializing CodonVariantTable from gene sequence and {config['bc_variant_lookup_Omicron_EG5']}\")\n",
    "      \n",
    "variants = dms_variants.codonvarianttable.CodonVariantTable(\n",
    "                geneseq=geneseq,\n",
    "                barcode_variant_file=config['bc_variant_lookup_Omicron_EG5'],\n",
    "                substitutions_are_codon=True,\n",
    "                substitutions_col='codon_substitutions',\n",
    "                primary_target=primary_target,\n",
    "                allowgaps=True)"
   ]
  },
  {
   "cell_type": "markdown",
   "metadata": {},
   "source": [
    "## Read barcode counts / fates\n",
    "Read data frame with list of all samples (barcode runs):"
   ]
  },
  {
   "cell_type": "code",
   "execution_count": 8,
   "metadata": {
    "execution": {
     "iopub.execute_input": "2024-04-12T23:48:47.730280Z",
     "iopub.status.busy": "2024-04-12T23:48:47.729969Z",
     "iopub.status.idle": "2024-04-12T23:48:47.750743Z",
     "shell.execute_reply": "2024-04-12T23:48:47.750078Z"
    }
   },
   "outputs": [
    {
     "name": "stdout",
     "output_type": "stream",
     "text": [
      "Reading list of barcode runs from data/barcode_runs_Omicron_EG5.csv\n"
     ]
    },
    {
     "data": {
      "text/html": [
       "<table border=\"1\" class=\"dataframe\">\n",
       "  <thead>\n",
       "    <tr style=\"text-align: right;\">\n",
       "      <th>date</th>\n",
       "      <th>experiment</th>\n",
       "      <th>target</th>\n",
       "      <th>library</th>\n",
       "      <th>antibody</th>\n",
       "      <th>concentration</th>\n",
       "      <th>sort_bin</th>\n",
       "      <th>selection</th>\n",
       "      <th>sample</th>\n",
       "      <th>experiment_type</th>\n",
       "      <th>number_cells</th>\n",
       "      <th>frac_escape</th>\n",
       "      <th>sample_lib</th>\n",
       "      <th>counts_file</th>\n",
       "      <th>fates_file</th>\n",
       "    </tr>\n",
       "  </thead>\n",
       "  <tbody>\n",
       "    <tr>\n",
       "      <td>240305</td>\n",
       "      <td>exptREF</td>\n",
       "      <td>Omicron_EG5</td>\n",
       "      <td>lib94</td>\n",
       "      <td>none</td>\n",
       "      <td>0</td>\n",
       "      <td>ref</td>\n",
       "      <td>reference</td>\n",
       "      <td>exptREF-none-0-ref</td>\n",
       "      <td>ab_selection</td>\n",
       "      <td>NaN</td>\n",
       "      <td>NaN</td>\n",
       "      <td>exptREF-none-0-ref_lib94</td>\n",
       "      <td>results/counts/Omicron_EG5/exptREF-none-0-ref_lib94_counts.csv</td>\n",
       "      <td>results/counts/Omicron_EG5/exptREF-none-0-ref_lib94_fates.csv</td>\n",
       "    </tr>\n",
       "    <tr>\n",
       "      <td>240305</td>\n",
       "      <td>exptREF</td>\n",
       "      <td>Omicron_EG5</td>\n",
       "      <td>lib95</td>\n",
       "      <td>none</td>\n",
       "      <td>0</td>\n",
       "      <td>ref</td>\n",
       "      <td>reference</td>\n",
       "      <td>exptREF-none-0-ref</td>\n",
       "      <td>ab_selection</td>\n",
       "      <td>NaN</td>\n",
       "      <td>NaN</td>\n",
       "      <td>exptREF-none-0-ref_lib95</td>\n",
       "      <td>results/counts/Omicron_EG5/exptREF-none-0-ref_lib95_counts.csv</td>\n",
       "      <td>results/counts/Omicron_EG5/exptREF-none-0-ref_lib95_fates.csv</td>\n",
       "    </tr>\n",
       "    <tr>\n",
       "      <td>240305</td>\n",
       "      <td>expt1</td>\n",
       "      <td>Omicron_EG5</td>\n",
       "      <td>lib94</td>\n",
       "      <td>S2V29_v37_2</td>\n",
       "      <td>39</td>\n",
       "      <td>abneg</td>\n",
       "      <td>escape</td>\n",
       "      <td>expt1-S2V29_v37_2-39-abneg</td>\n",
       "      <td>ab_selection</td>\n",
       "      <td>196000.0</td>\n",
       "      <td>0.049</td>\n",
       "      <td>expt1-S2V29_v37_2-39-abneg_lib94</td>\n",
       "      <td>results/counts/Omicron_EG5/expt1-S2V29_v37_2-39-abneg_lib94_counts.csv</td>\n",
       "      <td>results/counts/Omicron_EG5/expt1-S2V29_v37_2-39-abneg_lib94_fates.csv</td>\n",
       "    </tr>\n",
       "    <tr>\n",
       "      <td>240305</td>\n",
       "      <td>expt1</td>\n",
       "      <td>Omicron_EG5</td>\n",
       "      <td>lib95</td>\n",
       "      <td>S2V29_v37_2</td>\n",
       "      <td>39</td>\n",
       "      <td>abneg</td>\n",
       "      <td>escape</td>\n",
       "      <td>expt1-S2V29_v37_2-39-abneg</td>\n",
       "      <td>ab_selection</td>\n",
       "      <td>180000.0</td>\n",
       "      <td>0.045</td>\n",
       "      <td>expt1-S2V29_v37_2-39-abneg_lib95</td>\n",
       "      <td>results/counts/Omicron_EG5/expt1-S2V29_v37_2-39-abneg_lib95_counts.csv</td>\n",
       "      <td>results/counts/Omicron_EG5/expt1-S2V29_v37_2-39-abneg_lib95_fates.csv</td>\n",
       "    </tr>\n",
       "    <tr>\n",
       "      <td>240305</td>\n",
       "      <td>expt2</td>\n",
       "      <td>Omicron_EG5</td>\n",
       "      <td>lib94</td>\n",
       "      <td>S2V29</td>\n",
       "      <td>80</td>\n",
       "      <td>abneg</td>\n",
       "      <td>escape</td>\n",
       "      <td>expt2-S2V29-80-abneg</td>\n",
       "      <td>ab_selection</td>\n",
       "      <td>352000.0</td>\n",
       "      <td>0.088</td>\n",
       "      <td>expt2-S2V29-80-abneg_lib94</td>\n",
       "      <td>results/counts/Omicron_EG5/expt2-S2V29-80-abneg_lib94_counts.csv</td>\n",
       "      <td>results/counts/Omicron_EG5/expt2-S2V29-80-abneg_lib94_fates.csv</td>\n",
       "    </tr>\n",
       "    <tr>\n",
       "      <td>240305</td>\n",
       "      <td>expt2</td>\n",
       "      <td>Omicron_EG5</td>\n",
       "      <td>lib95</td>\n",
       "      <td>S2V29</td>\n",
       "      <td>80</td>\n",
       "      <td>abneg</td>\n",
       "      <td>escape</td>\n",
       "      <td>expt2-S2V29-80-abneg</td>\n",
       "      <td>ab_selection</td>\n",
       "      <td>360000.0</td>\n",
       "      <td>0.090</td>\n",
       "      <td>expt2-S2V29-80-abneg_lib95</td>\n",
       "      <td>results/counts/Omicron_EG5/expt2-S2V29-80-abneg_lib95_counts.csv</td>\n",
       "      <td>results/counts/Omicron_EG5/expt2-S2V29-80-abneg_lib95_fates.csv</td>\n",
       "    </tr>\n",
       "    <tr>\n",
       "      <td>240305</td>\n",
       "      <td>expt3</td>\n",
       "      <td>Omicron_EG5</td>\n",
       "      <td>lib94</td>\n",
       "      <td>S2K146</td>\n",
       "      <td>121</td>\n",
       "      <td>abneg</td>\n",
       "      <td>escape</td>\n",
       "      <td>expt3-S2K146-121-abneg</td>\n",
       "      <td>ab_selection</td>\n",
       "      <td>700000.0</td>\n",
       "      <td>0.175</td>\n",
       "      <td>expt3-S2K146-121-abneg_lib94</td>\n",
       "      <td>results/counts/Omicron_EG5/expt3-S2K146-121-abneg_lib94_counts.csv</td>\n",
       "      <td>results/counts/Omicron_EG5/expt3-S2K146-121-abneg_lib94_fates.csv</td>\n",
       "    </tr>\n",
       "    <tr>\n",
       "      <td>240305</td>\n",
       "      <td>expt3</td>\n",
       "      <td>Omicron_EG5</td>\n",
       "      <td>lib95</td>\n",
       "      <td>S2K146</td>\n",
       "      <td>121</td>\n",
       "      <td>abneg</td>\n",
       "      <td>escape</td>\n",
       "      <td>expt3-S2K146-121-abneg</td>\n",
       "      <td>ab_selection</td>\n",
       "      <td>684000.0</td>\n",
       "      <td>0.171</td>\n",
       "      <td>expt3-S2K146-121-abneg_lib95</td>\n",
       "      <td>results/counts/Omicron_EG5/expt3-S2K146-121-abneg_lib95_counts.csv</td>\n",
       "      <td>results/counts/Omicron_EG5/expt3-S2K146-121-abneg_lib95_fates.csv</td>\n",
       "    </tr>\n",
       "  </tbody>\n",
       "</table>"
      ],
      "text/plain": [
       "<IPython.core.display.HTML object>"
      ]
     },
     "metadata": {},
     "output_type": "display_data"
    }
   ],
   "source": [
    "print(f\"Reading list of barcode runs from {config['barcode_runs_Omicron_EG5']}\")\n",
    "\n",
    "barcode_runs = (pd.read_csv(config['barcode_runs_Omicron_EG5'])\n",
    "                .assign(sample_lib=lambda x: x['sample'] + '_' + x['library'],\n",
    "                        counts_file=lambda x: config['counts_dir_Omicron_EG5'] + '/' + x['sample_lib'] + '_counts.csv',\n",
    "                        fates_file=lambda x: config['counts_dir_Omicron_EG5'] + '/' + x['sample_lib'] + '_fates.csv',\n",
    "                        )\n",
    "                .drop(columns='R1')  # don't need this column, and very large\n",
    "                )\n",
    "\n",
    "assert all(map(os.path.isfile, barcode_runs['counts_file'])), 'missing some counts files'\n",
    "assert all(map(os.path.isfile, barcode_runs['fates_file'])), 'missing some fates files'\n",
    "\n",
    "display(HTML(barcode_runs.to_html(index=False)))"
   ]
  },
  {
   "cell_type": "markdown",
   "metadata": {},
   "source": [
    "Confirm sample / library combinations unique:"
   ]
  },
  {
   "cell_type": "code",
   "execution_count": 9,
   "metadata": {
    "execution": {
     "iopub.execute_input": "2024-04-12T23:48:47.753919Z",
     "iopub.status.busy": "2024-04-12T23:48:47.753429Z",
     "iopub.status.idle": "2024-04-12T23:48:47.758456Z",
     "shell.execute_reply": "2024-04-12T23:48:47.757785Z"
    }
   },
   "outputs": [],
   "source": [
    "assert len(barcode_runs) == len(barcode_runs.groupby(['sample', 'library']))"
   ]
  },
  {
   "cell_type": "markdown",
   "metadata": {},
   "source": [
    "Make sure the the libraries for which we have barcode runs are all in our variant table:"
   ]
  },
  {
   "cell_type": "code",
   "execution_count": 10,
   "metadata": {
    "execution": {
     "iopub.execute_input": "2024-04-12T23:48:47.761542Z",
     "iopub.status.busy": "2024-04-12T23:48:47.761067Z",
     "iopub.status.idle": "2024-04-12T23:48:47.764425Z",
     "shell.execute_reply": "2024-04-12T23:48:47.763800Z"
    }
   },
   "outputs": [],
   "source": [
    "unknown_libs = set(barcode_runs['library']) - set(variants.libraries)\n",
    "if unknown_libs:\n",
    "    raise ValueError(f\"Libraries with barcode runs not in variant table: {unknown_libs}\")"
   ]
  },
  {
   "cell_type": "markdown",
   "metadata": {},
   "source": [
    "Now concatenate the barcode counts and fates for each sample:"
   ]
  },
  {
   "cell_type": "code",
   "execution_count": 11,
   "metadata": {
    "execution": {
     "iopub.execute_input": "2024-04-12T23:48:47.767377Z",
     "iopub.status.busy": "2024-04-12T23:48:47.767035Z",
     "iopub.status.idle": "2024-04-12T23:48:48.561196Z",
     "shell.execute_reply": "2024-04-12T23:48:48.560499Z"
    }
   },
   "outputs": [
    {
     "name": "stdout",
     "output_type": "stream",
     "text": [
      "First few lines of counts data frame:\n"
     ]
    },
    {
     "data": {
      "text/html": [
       "<table border=\"1\" class=\"dataframe\">\n",
       "  <thead>\n",
       "    <tr style=\"text-align: right;\">\n",
       "      <th>barcode</th>\n",
       "      <th>count</th>\n",
       "      <th>library</th>\n",
       "      <th>sample</th>\n",
       "    </tr>\n",
       "  </thead>\n",
       "  <tbody>\n",
       "    <tr>\n",
       "      <td>ATGTATTAGACATACT</td>\n",
       "      <td>19477</td>\n",
       "      <td>lib94</td>\n",
       "      <td>exptREF-none-0-ref</td>\n",
       "    </tr>\n",
       "    <tr>\n",
       "      <td>GACCAATTCTCAATCT</td>\n",
       "      <td>18627</td>\n",
       "      <td>lib94</td>\n",
       "      <td>exptREF-none-0-ref</td>\n",
       "    </tr>\n",
       "    <tr>\n",
       "      <td>CTGAATCTGAATGCGA</td>\n",
       "      <td>16558</td>\n",
       "      <td>lib94</td>\n",
       "      <td>exptREF-none-0-ref</td>\n",
       "    </tr>\n",
       "    <tr>\n",
       "      <td>GTGCAAACACATTGGG</td>\n",
       "      <td>16353</td>\n",
       "      <td>lib94</td>\n",
       "      <td>exptREF-none-0-ref</td>\n",
       "    </tr>\n",
       "    <tr>\n",
       "      <td>TTTGGCAATCGACACC</td>\n",
       "      <td>16314</td>\n",
       "      <td>lib94</td>\n",
       "      <td>exptREF-none-0-ref</td>\n",
       "    </tr>\n",
       "  </tbody>\n",
       "</table>"
      ],
      "text/plain": [
       "<IPython.core.display.HTML object>"
      ]
     },
     "metadata": {},
     "output_type": "display_data"
    },
    {
     "name": "stdout",
     "output_type": "stream",
     "text": [
      "First few lines of fates data frame:\n"
     ]
    },
    {
     "data": {
      "text/html": [
       "<table border=\"1\" class=\"dataframe\">\n",
       "  <thead>\n",
       "    <tr style=\"text-align: right;\">\n",
       "      <th>fate</th>\n",
       "      <th>count</th>\n",
       "      <th>library</th>\n",
       "      <th>sample</th>\n",
       "    </tr>\n",
       "  </thead>\n",
       "  <tbody>\n",
       "    <tr>\n",
       "      <td>valid barcode</td>\n",
       "      <td>71411708</td>\n",
       "      <td>lib94</td>\n",
       "      <td>exptREF-none-0-ref</td>\n",
       "    </tr>\n",
       "    <tr>\n",
       "      <td>invalid barcode</td>\n",
       "      <td>24386913</td>\n",
       "      <td>lib94</td>\n",
       "      <td>exptREF-none-0-ref</td>\n",
       "    </tr>\n",
       "    <tr>\n",
       "      <td>low quality barcode</td>\n",
       "      <td>11112407</td>\n",
       "      <td>lib94</td>\n",
       "      <td>exptREF-none-0-ref</td>\n",
       "    </tr>\n",
       "    <tr>\n",
       "      <td>unparseable barcode</td>\n",
       "      <td>2494344</td>\n",
       "      <td>lib94</td>\n",
       "      <td>exptREF-none-0-ref</td>\n",
       "    </tr>\n",
       "    <tr>\n",
       "      <td>failed chastity filter</td>\n",
       "      <td>0</td>\n",
       "      <td>lib94</td>\n",
       "      <td>exptREF-none-0-ref</td>\n",
       "    </tr>\n",
       "  </tbody>\n",
       "</table>"
      ],
      "text/plain": [
       "<IPython.core.display.HTML object>"
      ]
     },
     "metadata": {},
     "output_type": "display_data"
    }
   ],
   "source": [
    "counts = pd.concat([pd.read_csv(f) for f in barcode_runs['counts_file']],\n",
    "                   sort=False,\n",
    "                   ignore_index=True)\n",
    "\n",
    "print('First few lines of counts data frame:')\n",
    "display(HTML(counts.head().to_html(index=False)))\n",
    "\n",
    "fates = pd.concat([pd.read_csv(f) for f in barcode_runs['fates_file']],\n",
    "                  sort=False,\n",
    "                  ignore_index=True)\n",
    "\n",
    "print('First few lines of fates data frame:')\n",
    "display(HTML(fates.head().to_html(index=False)))"
   ]
  },
  {
   "cell_type": "markdown",
   "metadata": {},
   "source": [
    "## Examine fates of parsed barcodes\n",
    "First, we'll analyze the \"fates\" of the parsed barcodes.\n",
    "These fates represent what happened to each Illumina read we parsed:\n",
    " - Did the barcode read fail the Illumina chastity filter?\n",
    " - Was the barcode *unparseable* (i.e., the read didn't appear to be a valid barcode based on flanking regions)?\n",
    " - Was the barcode sequence too *low quality* based on the Illumina quality scores?\n",
    " - Was the barcode parseable but *invalid* (i.e., not in our list of variant-associated barcodes in the codon variant table)?\n",
    " - Was the barcode *valid*, and so will be added to variant counts.\n",
    " \n",
    "First, we just write a CSV file with all the barcode fates:"
   ]
  },
  {
   "cell_type": "code",
   "execution_count": 12,
   "metadata": {
    "execution": {
     "iopub.execute_input": "2024-04-12T23:48:48.564314Z",
     "iopub.status.busy": "2024-04-12T23:48:48.564030Z",
     "iopub.status.idle": "2024-04-12T23:48:48.590687Z",
     "shell.execute_reply": "2024-04-12T23:48:48.590010Z"
    }
   },
   "outputs": [
    {
     "name": "stdout",
     "output_type": "stream",
     "text": [
      "Writing barcode fates to results/counts/Omicron_EG5/barcode_fates.csv\n"
     ]
    }
   ],
   "source": [
    "fatesfile = os.path.join(config['counts_dir_Omicron_EG5'], 'barcode_fates.csv')\n",
    "print(f\"Writing barcode fates to {fatesfile}\")\n",
    "fates.to_csv(fatesfile, index=False)"
   ]
  },
  {
   "cell_type": "markdown",
   "metadata": {},
   "source": [
    "Next, we tabulate the barcode fates in wide format:"
   ]
  },
  {
   "cell_type": "code",
   "execution_count": 13,
   "metadata": {
    "execution": {
     "iopub.execute_input": "2024-04-12T23:48:48.593731Z",
     "iopub.status.busy": "2024-04-12T23:48:48.593375Z",
     "iopub.status.idle": "2024-04-12T23:48:48.611068Z",
     "shell.execute_reply": "2024-04-12T23:48:48.610412Z"
    }
   },
   "outputs": [
    {
     "data": {
      "text/html": [
       "<table border=\"1\" class=\"dataframe\">\n",
       "  <thead>\n",
       "    <tr style=\"text-align: right;\">\n",
       "      <th></th>\n",
       "      <th>fate</th>\n",
       "      <th>failed chastity filter</th>\n",
       "      <th>invalid barcode</th>\n",
       "      <th>low quality barcode</th>\n",
       "      <th>unparseable barcode</th>\n",
       "      <th>valid barcode</th>\n",
       "    </tr>\n",
       "    <tr>\n",
       "      <th>sample</th>\n",
       "      <th>library</th>\n",
       "      <th></th>\n",
       "      <th></th>\n",
       "      <th></th>\n",
       "      <th></th>\n",
       "      <th></th>\n",
       "    </tr>\n",
       "  </thead>\n",
       "  <tbody>\n",
       "    <tr>\n",
       "      <th rowspan=\"2\" valign=\"top\">expt1-S2V29_v37_2-39-abneg</th>\n",
       "      <th>lib94</th>\n",
       "      <td>0.0e+00</td>\n",
       "      <td>3.6e+05</td>\n",
       "      <td>1.4e+05</td>\n",
       "      <td>3.5e+04</td>\n",
       "      <td>1.1e+06</td>\n",
       "    </tr>\n",
       "    <tr>\n",
       "      <th>lib95</th>\n",
       "      <td>0.0e+00</td>\n",
       "      <td>1.0e+04</td>\n",
       "      <td>5.2e+03</td>\n",
       "      <td>1.2e+03</td>\n",
       "      <td>3.7e+04</td>\n",
       "    </tr>\n",
       "    <tr>\n",
       "      <th rowspan=\"2\" valign=\"top\">expt2-S2V29-80-abneg</th>\n",
       "      <th>lib94</th>\n",
       "      <td>0.0e+00</td>\n",
       "      <td>1.8e+05</td>\n",
       "      <td>8.0e+04</td>\n",
       "      <td>2.0e+04</td>\n",
       "      <td>5.4e+05</td>\n",
       "    </tr>\n",
       "    <tr>\n",
       "      <th>lib95</th>\n",
       "      <td>0.0e+00</td>\n",
       "      <td>1.1e+03</td>\n",
       "      <td>6.0e+02</td>\n",
       "      <td>1.6e+02</td>\n",
       "      <td>4.0e+03</td>\n",
       "    </tr>\n",
       "    <tr>\n",
       "      <th rowspan=\"2\" valign=\"top\">expt3-S2K146-121-abneg</th>\n",
       "      <th>lib94</th>\n",
       "      <td>0.0e+00</td>\n",
       "      <td>8.4e+01</td>\n",
       "      <td>2.6e+01</td>\n",
       "      <td>4.0e+00</td>\n",
       "      <td>1.6e+02</td>\n",
       "    </tr>\n",
       "    <tr>\n",
       "      <th>lib95</th>\n",
       "      <td>0.0e+00</td>\n",
       "      <td>1.8e+02</td>\n",
       "      <td>8.1e+01</td>\n",
       "      <td>1.9e+01</td>\n",
       "      <td>5.5e+02</td>\n",
       "    </tr>\n",
       "    <tr>\n",
       "      <th rowspan=\"2\" valign=\"top\">exptREF-none-0-ref</th>\n",
       "      <th>lib94</th>\n",
       "      <td>0.0e+00</td>\n",
       "      <td>2.4e+07</td>\n",
       "      <td>1.1e+07</td>\n",
       "      <td>2.5e+06</td>\n",
       "      <td>7.1e+07</td>\n",
       "    </tr>\n",
       "    <tr>\n",
       "      <th>lib95</th>\n",
       "      <td>0.0e+00</td>\n",
       "      <td>1.8e+07</td>\n",
       "      <td>9.9e+06</td>\n",
       "      <td>2.2e+06</td>\n",
       "      <td>6.9e+07</td>\n",
       "    </tr>\n",
       "  </tbody>\n",
       "</table>"
      ],
      "text/plain": [
       "<IPython.core.display.HTML object>"
      ]
     },
     "metadata": {},
     "output_type": "display_data"
    }
   ],
   "source": [
    "display(HTML(fates\n",
    "             .pivot_table(columns='fate',\n",
    "                          values='count',\n",
    "                          index=['sample', 'library'])\n",
    "             .applymap('{:.1e}'.format)  # scientific notation\n",
    "             .to_html()\n",
    "             ))"
   ]
  },
  {
   "cell_type": "markdown",
   "metadata": {},
   "source": [
    "Now we plot the barcode-read fates for each library / sample, showing the bars for valid barcodes in orange and the others in gray.\n",
    "We see that the largest fraction of barcode reads correspond to valid barcodes, and most of the others are invalid barcodes (probably because the map to variants that aren't present in our variant table since we didn't associate all variants with barcodes). The exception to this is lib2 Titeseq_03_bin3; the PCR for this sample in the original sequencing run failed, so we followed it up with a single MiSeq lane. We did not filter out the PhiX reads from this data before parsing, so these PhiX reads will deflate the fraction of valid barcode reads as expected, but does not indicate any problems."
   ]
  },
  {
   "cell_type": "code",
   "execution_count": 14,
   "metadata": {
    "execution": {
     "iopub.execute_input": "2024-04-12T23:48:48.614107Z",
     "iopub.status.busy": "2024-04-12T23:48:48.613747Z",
     "iopub.status.idle": "2024-04-12T23:48:50.890902Z",
     "shell.execute_reply": "2024-04-12T23:48:50.890171Z"
    }
   },
   "outputs": [
    {
     "data": {
      "image/png": "[encoded data removed]",
      "text/plain": [
       "<Figure size 1300x400 with 8 Axes>"
      ]
     },
     "metadata": {},
     "output_type": "display_data"
    }
   ],
   "source": [
    "ncol = 4\n",
    "nfacets = len(fates.groupby(['sample', 'library']))\n",
    "\n",
    "barcode_fate_plot = (\n",
    "    ggplot(\n",
    "        fates\n",
    "        .assign(sample=lambda x: pd.Categorical(x['sample'],\n",
    "                                                x['sample'].unique(),\n",
    "                                                ordered=True),\n",
    "                fate=lambda x: pd.Categorical(x['fate'],\n",
    "                                              x['fate'].unique(),\n",
    "                                              ordered=True),\n",
    "                is_valid=lambda x: x['fate'] == 'valid barcode'\n",
    "                ), \n",
    "        aes('fate', 'count', fill='is_valid')) +\n",
    "    geom_bar(stat='identity') +\n",
    "    facet_wrap('~ sample + library', ncol=ncol) +\n",
    "    scale_fill_manual(CBPALETTE, guide=False) +\n",
    "    theme(figure_size=(3.25 * ncol, 2 * math.ceil(nfacets / ncol)),\n",
    "          axis_text_x=element_text(angle=90),\n",
    "          panel_grid_major_x=element_blank()\n",
    "          ) +\n",
    "    scale_y_continuous(labels=dms_variants.utils.latex_sci_not,\n",
    "                       name='number of reads')\n",
    "    )\n",
    "\n",
    "_ = barcode_fate_plot.draw()"
   ]
  },
  {
   "cell_type": "markdown",
   "metadata": {},
   "source": [
    "## Add barcode counts to variant table\n",
    "Now we use the [CodonVariantTable.add_sample_counts_df](https://jbloomlab.github.io/dms_variants/dms_variants.codonvarianttable.html#dms_variants.codonvarianttable.CodonVariantTable.add_sample_counts_df) method to add the barcode counts to the variant table:"
   ]
  },
  {
   "cell_type": "code",
   "execution_count": 15,
   "metadata": {
    "execution": {
     "iopub.execute_input": "2024-04-12T23:48:50.894531Z",
     "iopub.status.busy": "2024-04-12T23:48:50.893998Z",
     "iopub.status.idle": "2024-04-12T23:48:55.362998Z",
     "shell.execute_reply": "2024-04-12T23:48:55.362162Z"
    }
   },
   "outputs": [],
   "source": [
    "variants.add_sample_counts_df(counts)"
   ]
  },
  {
   "cell_type": "markdown",
   "metadata": {},
   "source": [
    "The variant table now has a `variant_count_df` attribute that gives a data frame of all the variant counts.\n",
    "Here are the first few lines:"
   ]
  },
  {
   "cell_type": "code",
   "execution_count": 16,
   "metadata": {
    "execution": {
     "iopub.execute_input": "2024-04-12T23:48:55.366664Z",
     "iopub.status.busy": "2024-04-12T23:48:55.366299Z",
     "iopub.status.idle": "2024-04-12T23:48:55.376907Z",
     "shell.execute_reply": "2024-04-12T23:48:55.376171Z"
    }
   },
   "outputs": [
    {
     "data": {
      "text/html": [
       "<table border=\"1\" class=\"dataframe\">\n",
       "  <thead>\n",
       "    <tr style=\"text-align: right;\">\n",
       "      <th>target</th>\n",
       "      <th>library</th>\n",
       "      <th>sample</th>\n",
       "      <th>barcode</th>\n",
       "      <th>count</th>\n",
       "      <th>variant_call_support</th>\n",
       "      <th>codon_substitutions</th>\n",
       "      <th>aa_substitutions</th>\n",
       "      <th>n_codon_substitutions</th>\n",
       "      <th>n_aa_substitutions</th>\n",
       "    </tr>\n",
       "  </thead>\n",
       "  <tbody>\n",
       "    <tr>\n",
       "      <td>Omicron_EG5</td>\n",
       "      <td>lib94</td>\n",
       "      <td>exptREF-none-0-ref</td>\n",
       "      <td>ATGTATTAGACATACT</td>\n",
       "      <td>19477</td>\n",
       "      <td>45</td>\n",
       "      <td>AAC4CAT TTG5TTT</td>\n",
       "      <td>N4H L5F</td>\n",
       "      <td>2</td>\n",
       "      <td>2</td>\n",
       "    </tr>\n",
       "    <tr>\n",
       "      <td>Omicron_EG5</td>\n",
       "      <td>lib94</td>\n",
       "      <td>exptREF-none-0-ref</td>\n",
       "      <td>GACCAATTCTCAATCT</td>\n",
       "      <td>18627</td>\n",
       "      <td>44</td>\n",
       "      <td>GCT105ACT</td>\n",
       "      <td>A105T</td>\n",
       "      <td>1</td>\n",
       "      <td>1</td>\n",
       "    </tr>\n",
       "    <tr>\n",
       "      <td>Omicron_EG5</td>\n",
       "      <td>lib94</td>\n",
       "      <td>exptREF-none-0-ref</td>\n",
       "      <td>CTGAATCTGAATGCGA</td>\n",
       "      <td>16558</td>\n",
       "      <td>34</td>\n",
       "      <td>TTG111---</td>\n",
       "      <td>L111-</td>\n",
       "      <td>1</td>\n",
       "      <td>1</td>\n",
       "    </tr>\n",
       "    <tr>\n",
       "      <td>Omicron_EG5</td>\n",
       "      <td>lib94</td>\n",
       "      <td>exptREF-none-0-ref</td>\n",
       "      <td>GTGCAAACACATTGGG</td>\n",
       "      <td>16353</td>\n",
       "      <td>57</td>\n",
       "      <td>AAC107TAT GTT182ATT</td>\n",
       "      <td>N107Y V182I</td>\n",
       "      <td>2</td>\n",
       "      <td>2</td>\n",
       "    </tr>\n",
       "    <tr>\n",
       "      <td>Omicron_EG5</td>\n",
       "      <td>lib94</td>\n",
       "      <td>exptREF-none-0-ref</td>\n",
       "      <td>TTTGGCAATCGACACC</td>\n",
       "      <td>16314</td>\n",
       "      <td>38</td>\n",
       "      <td>TAC178GAA</td>\n",
       "      <td>Y178E</td>\n",
       "      <td>1</td>\n",
       "      <td>1</td>\n",
       "    </tr>\n",
       "  </tbody>\n",
       "</table>"
      ],
      "text/plain": [
       "<IPython.core.display.HTML object>"
      ]
     },
     "metadata": {},
     "output_type": "display_data"
    }
   ],
   "source": [
    "display(HTML(variants.variant_count_df.head().to_html(index=False)))"
   ]
  },
  {
   "cell_type": "markdown",
   "metadata": {},
   "source": [
    "Write the variant counts data frame to a CSV file.\n",
    "It can then be used to re-initialize a [CodonVariantTable](https://jbloomlab.github.io/dms_variants/dms_variants.codonvarianttable.html#dms_variants.codonvarianttable.CodonVariantTable) via its [from_variant_count_df](https://jbloomlab.github.io/dms_variants/dms_variants.codonvarianttable.html#dms_variants.codonvarianttable.CodonVariantTable.from_variant_count_df) method:"
   ]
  },
  {
   "cell_type": "code",
   "execution_count": 17,
   "metadata": {
    "execution": {
     "iopub.execute_input": "2024-04-12T23:48:55.380246Z",
     "iopub.status.busy": "2024-04-12T23:48:55.379814Z",
     "iopub.status.idle": "2024-04-12T23:49:11.389930Z",
     "shell.execute_reply": "2024-04-12T23:49:11.389184Z"
    }
   },
   "outputs": [
    {
     "name": "stdout",
     "output_type": "stream",
     "text": [
      "Writing variant counts to results/counts/Omicron_EG5/variant_counts.csv.gz\n"
     ]
    }
   ],
   "source": [
    "print(f\"Writing variant counts to {config['variant_counts_Omicron_EG5']}\")\n",
    "variants.variant_count_df.to_csv(config['variant_counts_Omicron_EG5'], index=False, compression='gzip')"
   ]
  },
  {
   "cell_type": "markdown",
   "metadata": {},
   "source": [
    "The [CodonVariantTable](https://jbloomlab.github.io/dms_variants/dms_variants.codonvarianttable.html#dms_variants.codonvarianttable.CodonVariantTable) has lots of nice functions that can be used to analyze the counts it contains.\n",
    "However, we do that in the next notebook so we don't have to re-run this entire (rather computationally intensive) notebook every time we want to analyze a new aspect of the counts."
   ]
  }
 ],
 "metadata": {
  "kernelspec": {
   "display_name": "Python 3 (ipykernel)",
   "language": "python",
   "name": "python3"
  },
  "language_info": {
   "codemirror_mode": {
    "name": "ipython",
    "version": 3
   },
   "file_extension": ".py",
   "mimetype": "text/x-python",
   "name": "python",
   "nbconvert_exporter": "python",
   "pygments_lexer": "ipython3",
   "version": "3.8.15"
  }
 },
 "nbformat": 4,
 "nbformat_minor": 4
}
