{
 "cells": [
  {
   "cell_type": "markdown",
   "metadata": {},
   "source": [
    "# Aggregate variant counts for all samples\n",
    "Separate `Snakemake` rules count the observations of each variant in each sample from the Illumina barcode sequencing.\n",
    "This Python Jupyter notebook aggregates all of this counts, and then adds them to a codon variant table."
   ]
  },
  {
   "cell_type": "markdown",
   "metadata": {},
   "source": [
    "## Set up analysis\n",
    "### Import Python modules.\n",
    "Use [plotnine](https://plotnine.readthedocs.io/en/stable/) for ggplot2-like plotting.\n",
    "\n",
    "The analysis relies heavily on the Bloom lab's [dms_variants](https://jbloomlab.github.io/dms_variants) package:"
   ]
  },
  {
   "cell_type": "code",
   "execution_count": 1,
   "metadata": {
    "execution": {
     "iopub.execute_input": "2024-01-22T23:20:53.436659Z",
     "iopub.status.busy": "2024-01-22T23:20:53.436312Z",
     "iopub.status.idle": "2024-01-22T23:20:55.005906Z",
     "shell.execute_reply": "2024-01-22T23:20:55.005296Z"
    }
   },
   "outputs": [],
   "source": [
    "import glob\n",
    "import itertools\n",
    "import math\n",
    "import os\n",
    "import warnings\n",
    "\n",
    "import Bio.SeqIO\n",
    "\n",
    "import dms_variants.codonvarianttable\n",
    "from dms_variants.constants import CBPALETTE\n",
    "import dms_variants.utils\n",
    "import dms_variants.plotnine_themes\n",
    "\n",
    "from IPython.display import display, HTML\n",
    "\n",
    "import pandas as pd\n",
    "\n",
    "from plotnine import *\n",
    "\n",
    "import yaml"
   ]
  },
  {
   "cell_type": "markdown",
   "metadata": {},
   "source": [
    "Set [plotnine](https://plotnine.readthedocs.io/en/stable/) theme to the gray-grid one defined in `dms_variants`:"
   ]
  },
  {
   "cell_type": "code",
   "execution_count": 2,
   "metadata": {
    "execution": {
     "iopub.execute_input": "2024-01-22T23:20:55.008396Z",
     "iopub.status.busy": "2024-01-22T23:20:55.007828Z",
     "iopub.status.idle": "2024-01-22T23:20:55.011473Z",
     "shell.execute_reply": "2024-01-22T23:20:55.011048Z"
    }
   },
   "outputs": [],
   "source": [
    "theme_set(dms_variants.plotnine_themes.theme_graygrid())"
   ]
  },
  {
   "cell_type": "markdown",
   "metadata": {},
   "source": [
    "Versions of key software:"
   ]
  },
  {
   "cell_type": "code",
   "execution_count": 3,
   "metadata": {
    "execution": {
     "iopub.execute_input": "2024-01-22T23:20:55.013416Z",
     "iopub.status.busy": "2024-01-22T23:20:55.013057Z",
     "iopub.status.idle": "2024-01-22T23:20:55.015834Z",
     "shell.execute_reply": "2024-01-22T23:20:55.015380Z"
    }
   },
   "outputs": [
    {
     "name": "stdout",
     "output_type": "stream",
     "text": [
      "Using dms_variants version 1.4.3\n"
     ]
    }
   ],
   "source": [
    "print(f\"Using dms_variants version {dms_variants.__version__}\")"
   ]
  },
  {
   "cell_type": "markdown",
   "metadata": {},
   "source": [
    "Ignore warnings that clutter output:"
   ]
  },
  {
   "cell_type": "code",
   "execution_count": 4,
   "metadata": {
    "execution": {
     "iopub.execute_input": "2024-01-22T23:20:55.052676Z",
     "iopub.status.busy": "2024-01-22T23:20:55.052271Z",
     "iopub.status.idle": "2024-01-22T23:20:55.054653Z",
     "shell.execute_reply": "2024-01-22T23:20:55.054219Z"
    }
   },
   "outputs": [],
   "source": [
    "warnings.simplefilter('ignore')"
   ]
  },
  {
   "cell_type": "markdown",
   "metadata": {},
   "source": [
    "Read the configuration file:"
   ]
  },
  {
   "cell_type": "code",
   "execution_count": 5,
   "metadata": {
    "execution": {
     "iopub.execute_input": "2024-01-22T23:20:55.056547Z",
     "iopub.status.busy": "2024-01-22T23:20:55.056232Z",
     "iopub.status.idle": "2024-01-22T23:20:55.076817Z",
     "shell.execute_reply": "2024-01-22T23:20:55.076385Z"
    }
   },
   "outputs": [],
   "source": [
    "with open('config.yaml') as f:\n",
    "    config = yaml.safe_load(f)"
   ]
  },
  {
   "cell_type": "markdown",
   "metadata": {},
   "source": [
    "Make output directory if needed:"
   ]
  },
  {
   "cell_type": "code",
   "execution_count": 6,
   "metadata": {
    "execution": {
     "iopub.execute_input": "2024-01-22T23:20:55.078697Z",
     "iopub.status.busy": "2024-01-22T23:20:55.078377Z",
     "iopub.status.idle": "2024-01-22T23:20:55.080887Z",
     "shell.execute_reply": "2024-01-22T23:20:55.080459Z"
    }
   },
   "outputs": [],
   "source": [
    "os.makedirs(config['counts_dir_Omicron_XBB15'], exist_ok=True)"
   ]
  },
  {
   "cell_type": "markdown",
   "metadata": {},
   "source": [
    "## Initialize codon variant table\n",
    "Initialize the [CodonVariantTable](https://jbloomlab.github.io/dms_variants/dms_variants.codonvarianttable.html#dms_variants.codonvarianttable.CodonVariantTable) using the wildtype gene sequence and the CSV file with the table of variants:"
   ]
  },
  {
   "cell_type": "code",
   "execution_count": 7,
   "metadata": {
    "execution": {
     "iopub.execute_input": "2024-01-22T23:20:55.082724Z",
     "iopub.status.busy": "2024-01-22T23:20:55.082450Z",
     "iopub.status.idle": "2024-01-22T23:20:58.440363Z",
     "shell.execute_reply": "2024-01-22T23:20:58.439731Z"
    }
   },
   "outputs": [
    {
     "name": "stdout",
     "output_type": "stream",
     "text": [
      "Read sequence of 603 nt for Omicron_XBB15 from data/wildtype_sequence_Omicron_XBB15.fasta\n",
      "Initializing CodonVariantTable from gene sequence and data/codon_variant_table_Omicron_XBB15.csv\n"
     ]
    }
   ],
   "source": [
    "wt_seqrecord = Bio.SeqIO.read(config['wildtype_sequence_Omicron_XBB15'], 'fasta')\n",
    "geneseq = str(wt_seqrecord.seq)\n",
    "primary_target = wt_seqrecord.name\n",
    "print(f\"Read sequence of {len(geneseq)} nt for {primary_target} from {config['wildtype_sequence_Omicron_XBB15']}\")\n",
    "      \n",
    "print(f\"Initializing CodonVariantTable from gene sequence and {config['bc_variant_lookup_Omicron_XBB15']}\")\n",
    "      \n",
    "variants = dms_variants.codonvarianttable.CodonVariantTable(\n",
    "                geneseq=geneseq,\n",
    "                barcode_variant_file=config['bc_variant_lookup_Omicron_XBB15'],\n",
    "                substitutions_are_codon=True,\n",
    "                substitutions_col='codon_substitutions',\n",
    "                primary_target=primary_target,\n",
    "                allowgaps=True)"
   ]
  },
  {
   "cell_type": "markdown",
   "metadata": {},
   "source": [
    "## Read barcode counts / fates\n",
    "Read data frame with list of all samples (barcode runs):"
   ]
  },
  {
   "cell_type": "code",
   "execution_count": 8,
   "metadata": {
    "execution": {
     "iopub.execute_input": "2024-01-22T23:20:58.442836Z",
     "iopub.status.busy": "2024-01-22T23:20:58.442468Z",
     "iopub.status.idle": "2024-01-22T23:20:58.470364Z",
     "shell.execute_reply": "2024-01-22T23:20:58.469923Z"
    }
   },
   "outputs": [
    {
     "name": "stdout",
     "output_type": "stream",
     "text": [
      "Reading list of barcode runs from data/barcode_runs_Omicron_XBB15.csv\n"
     ]
    },
    {
     "data": {
      "text/html": [
       "<table border=\"1\" class=\"dataframe\">\n",
       "  <thead>\n",
       "    <tr style=\"text-align: right;\">\n",
       "      <th>date</th>\n",
       "      <th>experiment</th>\n",
       "      <th>target</th>\n",
       "      <th>library</th>\n",
       "      <th>antibody</th>\n",
       "      <th>concentration</th>\n",
       "      <th>sort_bin</th>\n",
       "      <th>selection</th>\n",
       "      <th>sample</th>\n",
       "      <th>experiment_type</th>\n",
       "      <th>number_cells</th>\n",
       "      <th>frac_escape</th>\n",
       "      <th>sample_lib</th>\n",
       "      <th>counts_file</th>\n",
       "      <th>fates_file</th>\n",
       "    </tr>\n",
       "  </thead>\n",
       "  <tbody>\n",
       "    <tr>\n",
       "      <td>230622</td>\n",
       "      <td>exptREF2</td>\n",
       "      <td>Omicron_XBB15</td>\n",
       "      <td>lib59</td>\n",
       "      <td>none</td>\n",
       "      <td>0</td>\n",
       "      <td>ref</td>\n",
       "      <td>reference</td>\n",
       "      <td>exptREF2-none-0-ref</td>\n",
       "      <td>ab_selection</td>\n",
       "      <td>NaN</td>\n",
       "      <td>NaN</td>\n",
       "      <td>exptREF2-none-0-ref_lib59</td>\n",
       "      <td>results/counts/Omicron_XBB15/exptREF2-none-0-ref_lib59_counts.csv</td>\n",
       "      <td>results/counts/Omicron_XBB15/exptREF2-none-0-ref_lib59_fates.csv</td>\n",
       "    </tr>\n",
       "    <tr>\n",
       "      <td>230622</td>\n",
       "      <td>exptREF2</td>\n",
       "      <td>Omicron_XBB15</td>\n",
       "      <td>lib60</td>\n",
       "      <td>none</td>\n",
       "      <td>0</td>\n",
       "      <td>ref</td>\n",
       "      <td>reference</td>\n",
       "      <td>exptREF2-none-0-ref</td>\n",
       "      <td>ab_selection</td>\n",
       "      <td>NaN</td>\n",
       "      <td>NaN</td>\n",
       "      <td>exptREF2-none-0-ref_lib60</td>\n",
       "      <td>results/counts/Omicron_XBB15/exptREF2-none-0-ref_lib60_counts.csv</td>\n",
       "      <td>results/counts/Omicron_XBB15/exptREF2-none-0-ref_lib60_fates.csv</td>\n",
       "    </tr>\n",
       "    <tr>\n",
       "      <td>230622</td>\n",
       "      <td>expt6</td>\n",
       "      <td>Omicron_XBB15</td>\n",
       "      <td>lib59</td>\n",
       "      <td>S2V29_v37_2</td>\n",
       "      <td>42</td>\n",
       "      <td>abneg</td>\n",
       "      <td>escape</td>\n",
       "      <td>expt6-S2V29_v37_2-42-abneg</td>\n",
       "      <td>ab_selection</td>\n",
       "      <td>242800.0</td>\n",
       "      <td>0.0607</td>\n",
       "      <td>expt6-S2V29_v37_2-42-abneg_lib59</td>\n",
       "      <td>results/counts/Omicron_XBB15/expt6-S2V29_v37_2-42-abneg_lib59_counts.csv</td>\n",
       "      <td>results/counts/Omicron_XBB15/expt6-S2V29_v37_2-42-abneg_lib59_fates.csv</td>\n",
       "    </tr>\n",
       "    <tr>\n",
       "      <td>230622</td>\n",
       "      <td>expt6</td>\n",
       "      <td>Omicron_XBB15</td>\n",
       "      <td>lib60</td>\n",
       "      <td>S2V29_v37_2</td>\n",
       "      <td>42</td>\n",
       "      <td>abneg</td>\n",
       "      <td>escape</td>\n",
       "      <td>expt6-S2V29_v37_2-42-abneg</td>\n",
       "      <td>ab_selection</td>\n",
       "      <td>259200.0</td>\n",
       "      <td>0.0648</td>\n",
       "      <td>expt6-S2V29_v37_2-42-abneg_lib60</td>\n",
       "      <td>results/counts/Omicron_XBB15/expt6-S2V29_v37_2-42-abneg_lib60_counts.csv</td>\n",
       "      <td>results/counts/Omicron_XBB15/expt6-S2V29_v37_2-42-abneg_lib60_fates.csv</td>\n",
       "    </tr>\n",
       "    <tr>\n",
       "      <td>230615</td>\n",
       "      <td>exptREF</td>\n",
       "      <td>Omicron_XBB15</td>\n",
       "      <td>lib59</td>\n",
       "      <td>none</td>\n",
       "      <td>0</td>\n",
       "      <td>ref</td>\n",
       "      <td>reference</td>\n",
       "      <td>exptREF-none-0-ref</td>\n",
       "      <td>ab_selection</td>\n",
       "      <td>NaN</td>\n",
       "      <td>NaN</td>\n",
       "      <td>exptREF-none-0-ref_lib59</td>\n",
       "      <td>results/counts/Omicron_XBB15/exptREF-none-0-ref_lib59_counts.csv</td>\n",
       "      <td>results/counts/Omicron_XBB15/exptREF-none-0-ref_lib59_fates.csv</td>\n",
       "    </tr>\n",
       "    <tr>\n",
       "      <td>230615</td>\n",
       "      <td>exptREF</td>\n",
       "      <td>Omicron_XBB15</td>\n",
       "      <td>lib60</td>\n",
       "      <td>none</td>\n",
       "      <td>0</td>\n",
       "      <td>ref</td>\n",
       "      <td>reference</td>\n",
       "      <td>exptREF-none-0-ref</td>\n",
       "      <td>ab_selection</td>\n",
       "      <td>NaN</td>\n",
       "      <td>NaN</td>\n",
       "      <td>exptREF-none-0-ref_lib60</td>\n",
       "      <td>results/counts/Omicron_XBB15/exptREF-none-0-ref_lib60_counts.csv</td>\n",
       "      <td>results/counts/Omicron_XBB15/exptREF-none-0-ref_lib60_fates.csv</td>\n",
       "    </tr>\n",
       "    <tr>\n",
       "      <td>230615</td>\n",
       "      <td>expt5</td>\n",
       "      <td>Omicron_XBB15</td>\n",
       "      <td>lib59</td>\n",
       "      <td>S2K146</td>\n",
       "      <td>266</td>\n",
       "      <td>abneg</td>\n",
       "      <td>escape</td>\n",
       "      <td>expt5-S2K146-266-abneg</td>\n",
       "      <td>ab_selection</td>\n",
       "      <td>1020000.0</td>\n",
       "      <td>0.2550</td>\n",
       "      <td>expt5-S2K146-266-abneg_lib59</td>\n",
       "      <td>results/counts/Omicron_XBB15/expt5-S2K146-266-abneg_lib59_counts.csv</td>\n",
       "      <td>results/counts/Omicron_XBB15/expt5-S2K146-266-abneg_lib59_fates.csv</td>\n",
       "    </tr>\n",
       "    <tr>\n",
       "      <td>230615</td>\n",
       "      <td>expt5</td>\n",
       "      <td>Omicron_XBB15</td>\n",
       "      <td>lib60</td>\n",
       "      <td>S2K146</td>\n",
       "      <td>266</td>\n",
       "      <td>abneg</td>\n",
       "      <td>escape</td>\n",
       "      <td>expt5-S2K146-266-abneg</td>\n",
       "      <td>ab_selection</td>\n",
       "      <td>972000.0</td>\n",
       "      <td>0.2430</td>\n",
       "      <td>expt5-S2K146-266-abneg_lib60</td>\n",
       "      <td>results/counts/Omicron_XBB15/expt5-S2K146-266-abneg_lib60_counts.csv</td>\n",
       "      <td>results/counts/Omicron_XBB15/expt5-S2K146-266-abneg_lib60_fates.csv</td>\n",
       "    </tr>\n",
       "    <tr>\n",
       "      <td>230615</td>\n",
       "      <td>expt8</td>\n",
       "      <td>Omicron_XBB15</td>\n",
       "      <td>lib59</td>\n",
       "      <td>S2V29</td>\n",
       "      <td>59</td>\n",
       "      <td>abneg</td>\n",
       "      <td>escape</td>\n",
       "      <td>expt8-S2V29-59-abneg</td>\n",
       "      <td>ab_selection</td>\n",
       "      <td>476000.0</td>\n",
       "      <td>0.1190</td>\n",
       "      <td>expt8-S2V29-59-abneg_lib59</td>\n",
       "      <td>results/counts/Omicron_XBB15/expt8-S2V29-59-abneg_lib59_counts.csv</td>\n",
       "      <td>results/counts/Omicron_XBB15/expt8-S2V29-59-abneg_lib59_fates.csv</td>\n",
       "    </tr>\n",
       "    <tr>\n",
       "      <td>230615</td>\n",
       "      <td>expt8</td>\n",
       "      <td>Omicron_XBB15</td>\n",
       "      <td>lib60</td>\n",
       "      <td>S2V29</td>\n",
       "      <td>59</td>\n",
       "      <td>abneg</td>\n",
       "      <td>escape</td>\n",
       "      <td>expt8-S2V29-59-abneg</td>\n",
       "      <td>ab_selection</td>\n",
       "      <td>352000.0</td>\n",
       "      <td>0.0880</td>\n",
       "      <td>expt8-S2V29-59-abneg_lib60</td>\n",
       "      <td>results/counts/Omicron_XBB15/expt8-S2V29-59-abneg_lib60_counts.csv</td>\n",
       "      <td>results/counts/Omicron_XBB15/expt8-S2V29-59-abneg_lib60_fates.csv</td>\n",
       "    </tr>\n",
       "  </tbody>\n",
       "</table>"
      ],
      "text/plain": [
       "<IPython.core.display.HTML object>"
      ]
     },
     "metadata": {},
     "output_type": "display_data"
    }
   ],
   "source": [
    "print(f\"Reading list of barcode runs from {config['barcode_runs_Omicron_XBB15']}\")\n",
    "\n",
    "barcode_runs = (pd.read_csv(config['barcode_runs_Omicron_XBB15'])\n",
    "                .assign(sample_lib=lambda x: x['sample'] + '_' + x['library'],\n",
    "                        counts_file=lambda x: config['counts_dir_Omicron_XBB15'] + '/' + x['sample_lib'] + '_counts.csv',\n",
    "                        fates_file=lambda x: config['counts_dir_Omicron_XBB15'] + '/' + x['sample_lib'] + '_fates.csv',\n",
    "                        )\n",
    "                .drop(columns='R1')  # don't need this column, and very large\n",
    "                )\n",
    "\n",
    "assert all(map(os.path.isfile, barcode_runs['counts_file'])), 'missing some counts files'\n",
    "assert all(map(os.path.isfile, barcode_runs['fates_file'])), 'missing some fates files'\n",
    "\n",
    "display(HTML(barcode_runs.to_html(index=False)))"
   ]
  },
  {
   "cell_type": "markdown",
   "metadata": {},
   "source": [
    "Confirm sample / library combinations unique:"
   ]
  },
  {
   "cell_type": "code",
   "execution_count": 9,
   "metadata": {
    "execution": {
     "iopub.execute_input": "2024-01-22T23:20:58.472266Z",
     "iopub.status.busy": "2024-01-22T23:20:58.471978Z",
     "iopub.status.idle": "2024-01-22T23:20:58.475691Z",
     "shell.execute_reply": "2024-01-22T23:20:58.475255Z"
    }
   },
   "outputs": [],
   "source": [
    "assert len(barcode_runs) == len(barcode_runs.groupby(['sample', 'library']))"
   ]
  },
  {
   "cell_type": "markdown",
   "metadata": {},
   "source": [
    "Make sure the the libraries for which we have barcode runs are all in our variant table:"
   ]
  },
  {
   "cell_type": "code",
   "execution_count": 10,
   "metadata": {
    "execution": {
     "iopub.execute_input": "2024-01-22T23:20:58.477509Z",
     "iopub.status.busy": "2024-01-22T23:20:58.477245Z",
     "iopub.status.idle": "2024-01-22T23:20:58.479802Z",
     "shell.execute_reply": "2024-01-22T23:20:58.479366Z"
    }
   },
   "outputs": [],
   "source": [
    "unknown_libs = set(barcode_runs['library']) - set(variants.libraries)\n",
    "if unknown_libs:\n",
    "    raise ValueError(f\"Libraries with barcode runs not in variant table: {unknown_libs}\")"
   ]
  },
  {
   "cell_type": "markdown",
   "metadata": {},
   "source": [
    "Now concatenate the barcode counts and fates for each sample:"
   ]
  },
  {
   "cell_type": "code",
   "execution_count": 11,
   "metadata": {
    "execution": {
     "iopub.execute_input": "2024-01-22T23:20:58.481673Z",
     "iopub.status.busy": "2024-01-22T23:20:58.481325Z",
     "iopub.status.idle": "2024-01-22T23:20:59.411965Z",
     "shell.execute_reply": "2024-01-22T23:20:59.411447Z"
    }
   },
   "outputs": [
    {
     "name": "stdout",
     "output_type": "stream",
     "text": [
      "First few lines of counts data frame:\n"
     ]
    },
    {
     "data": {
      "text/html": [
       "<table border=\"1\" class=\"dataframe\">\n",
       "  <thead>\n",
       "    <tr style=\"text-align: right;\">\n",
       "      <th>barcode</th>\n",
       "      <th>count</th>\n",
       "      <th>library</th>\n",
       "      <th>sample</th>\n",
       "    </tr>\n",
       "  </thead>\n",
       "  <tbody>\n",
       "    <tr>\n",
       "      <td>ACTAGGCACTCCCGTA</td>\n",
       "      <td>10510</td>\n",
       "      <td>lib59</td>\n",
       "      <td>exptREF2-none-0-ref</td>\n",
       "    </tr>\n",
       "    <tr>\n",
       "      <td>CATAATCCTCTTCATT</td>\n",
       "      <td>9366</td>\n",
       "      <td>lib59</td>\n",
       "      <td>exptREF2-none-0-ref</td>\n",
       "    </tr>\n",
       "    <tr>\n",
       "      <td>CAAGGGAAAGAATCGT</td>\n",
       "      <td>8610</td>\n",
       "      <td>lib59</td>\n",
       "      <td>exptREF2-none-0-ref</td>\n",
       "    </tr>\n",
       "    <tr>\n",
       "      <td>ATCTATCCCAATACGA</td>\n",
       "      <td>7899</td>\n",
       "      <td>lib59</td>\n",
       "      <td>exptREF2-none-0-ref</td>\n",
       "    </tr>\n",
       "    <tr>\n",
       "      <td>GACTTGAGTGATACCA</td>\n",
       "      <td>6960</td>\n",
       "      <td>lib59</td>\n",
       "      <td>exptREF2-none-0-ref</td>\n",
       "    </tr>\n",
       "  </tbody>\n",
       "</table>"
      ],
      "text/plain": [
       "<IPython.core.display.HTML object>"
      ]
     },
     "metadata": {},
     "output_type": "display_data"
    },
    {
     "name": "stdout",
     "output_type": "stream",
     "text": [
      "First few lines of fates data frame:\n"
     ]
    },
    {
     "data": {
      "text/html": [
       "<table border=\"1\" class=\"dataframe\">\n",
       "  <thead>\n",
       "    <tr style=\"text-align: right;\">\n",
       "      <th>fate</th>\n",
       "      <th>count</th>\n",
       "      <th>library</th>\n",
       "      <th>sample</th>\n",
       "    </tr>\n",
       "  </thead>\n",
       "  <tbody>\n",
       "    <tr>\n",
       "      <td>valid barcode</td>\n",
       "      <td>29291934</td>\n",
       "      <td>lib59</td>\n",
       "      <td>exptREF2-none-0-ref</td>\n",
       "    </tr>\n",
       "    <tr>\n",
       "      <td>invalid barcode</td>\n",
       "      <td>4621437</td>\n",
       "      <td>lib59</td>\n",
       "      <td>exptREF2-none-0-ref</td>\n",
       "    </tr>\n",
       "    <tr>\n",
       "      <td>low quality barcode</td>\n",
       "      <td>2544841</td>\n",
       "      <td>lib59</td>\n",
       "      <td>exptREF2-none-0-ref</td>\n",
       "    </tr>\n",
       "    <tr>\n",
       "      <td>unparseable barcode</td>\n",
       "      <td>850961</td>\n",
       "      <td>lib59</td>\n",
       "      <td>exptREF2-none-0-ref</td>\n",
       "    </tr>\n",
       "    <tr>\n",
       "      <td>failed chastity filter</td>\n",
       "      <td>0</td>\n",
       "      <td>lib59</td>\n",
       "      <td>exptREF2-none-0-ref</td>\n",
       "    </tr>\n",
       "  </tbody>\n",
       "</table>"
      ],
      "text/plain": [
       "<IPython.core.display.HTML object>"
      ]
     },
     "metadata": {},
     "output_type": "display_data"
    }
   ],
   "source": [
    "counts = pd.concat([pd.read_csv(f) for f in barcode_runs['counts_file']],\n",
    "                   sort=False,\n",
    "                   ignore_index=True)\n",
    "\n",
    "print('First few lines of counts data frame:')\n",
    "display(HTML(counts.head().to_html(index=False)))\n",
    "\n",
    "fates = pd.concat([pd.read_csv(f) for f in barcode_runs['fates_file']],\n",
    "                  sort=False,\n",
    "                  ignore_index=True)\n",
    "\n",
    "print('First few lines of fates data frame:')\n",
    "display(HTML(fates.head().to_html(index=False)))"
   ]
  },
  {
   "cell_type": "markdown",
   "metadata": {},
   "source": [
    "## Examine fates of parsed barcodes\n",
    "First, we'll analyze the \"fates\" of the parsed barcodes.\n",
    "These fates represent what happened to each Illumina read we parsed:\n",
    " - Did the barcode read fail the Illumina chastity filter?\n",
    " - Was the barcode *unparseable* (i.e., the read didn't appear to be a valid barcode based on flanking regions)?\n",
    " - Was the barcode sequence too *low quality* based on the Illumina quality scores?\n",
    " - Was the barcode parseable but *invalid* (i.e., not in our list of variant-associated barcodes in the codon variant table)?\n",
    " - Was the barcode *valid*, and so will be added to variant counts.\n",
    " \n",
    "First, we just write a CSV file with all the barcode fates:"
   ]
  },
  {
   "cell_type": "code",
   "execution_count": 12,
   "metadata": {
    "execution": {
     "iopub.execute_input": "2024-01-22T23:20:59.413991Z",
     "iopub.status.busy": "2024-01-22T23:20:59.413696Z",
     "iopub.status.idle": "2024-01-22T23:20:59.418500Z",
     "shell.execute_reply": "2024-01-22T23:20:59.418050Z"
    }
   },
   "outputs": [
    {
     "name": "stdout",
     "output_type": "stream",
     "text": [
      "Writing barcode fates to results/counts/Omicron_XBB15/barcode_fates.csv\n"
     ]
    }
   ],
   "source": [
    "fatesfile = os.path.join(config['counts_dir_Omicron_XBB15'], 'barcode_fates.csv')\n",
    "print(f\"Writing barcode fates to {fatesfile}\")\n",
    "fates.to_csv(fatesfile, index=False)"
   ]
  },
  {
   "cell_type": "markdown",
   "metadata": {},
   "source": [
    "Next, we tabulate the barcode fates in wide format:"
   ]
  },
  {
   "cell_type": "code",
   "execution_count": 13,
   "metadata": {
    "execution": {
     "iopub.execute_input": "2024-01-22T23:20:59.420336Z",
     "iopub.status.busy": "2024-01-22T23:20:59.420068Z",
     "iopub.status.idle": "2024-01-22T23:20:59.432628Z",
     "shell.execute_reply": "2024-01-22T23:20:59.432196Z"
    }
   },
   "outputs": [
    {
     "data": {
      "text/html": [
       "<table border=\"1\" class=\"dataframe\">\n",
       "  <thead>\n",
       "    <tr style=\"text-align: right;\">\n",
       "      <th></th>\n",
       "      <th>fate</th>\n",
       "      <th>failed chastity filter</th>\n",
       "      <th>invalid barcode</th>\n",
       "      <th>low quality barcode</th>\n",
       "      <th>unparseable barcode</th>\n",
       "      <th>valid barcode</th>\n",
       "    </tr>\n",
       "    <tr>\n",
       "      <th>sample</th>\n",
       "      <th>library</th>\n",
       "      <th></th>\n",
       "      <th></th>\n",
       "      <th></th>\n",
       "      <th></th>\n",
       "      <th></th>\n",
       "    </tr>\n",
       "  </thead>\n",
       "  <tbody>\n",
       "    <tr>\n",
       "      <th rowspan=\"2\" valign=\"top\">expt5-S2K146-266-abneg</th>\n",
       "      <th>lib59</th>\n",
       "      <td>0.0e+00</td>\n",
       "      <td>3.9e+05</td>\n",
       "      <td>2.1e+05</td>\n",
       "      <td>7.9e+04</td>\n",
       "      <td>2.6e+06</td>\n",
       "    </tr>\n",
       "    <tr>\n",
       "      <th>lib60</th>\n",
       "      <td>0.0e+00</td>\n",
       "      <td>4.5e+05</td>\n",
       "      <td>2.5e+05</td>\n",
       "      <td>8.3e+04</td>\n",
       "      <td>3.0e+06</td>\n",
       "    </tr>\n",
       "    <tr>\n",
       "      <th rowspan=\"2\" valign=\"top\">expt6-S2V29_v37_2-42-abneg</th>\n",
       "      <th>lib59</th>\n",
       "      <td>0.0e+00</td>\n",
       "      <td>1.8e+05</td>\n",
       "      <td>9.7e+04</td>\n",
       "      <td>3.2e+04</td>\n",
       "      <td>1.2e+06</td>\n",
       "    </tr>\n",
       "    <tr>\n",
       "      <th>lib60</th>\n",
       "      <td>0.0e+00</td>\n",
       "      <td>1.5e+05</td>\n",
       "      <td>8.8e+04</td>\n",
       "      <td>2.9e+04</td>\n",
       "      <td>1.1e+06</td>\n",
       "    </tr>\n",
       "    <tr>\n",
       "      <th rowspan=\"2\" valign=\"top\">expt8-S2V29-59-abneg</th>\n",
       "      <th>lib59</th>\n",
       "      <td>0.0e+00</td>\n",
       "      <td>3.2e+05</td>\n",
       "      <td>1.6e+05</td>\n",
       "      <td>5.3e+04</td>\n",
       "      <td>1.9e+06</td>\n",
       "    </tr>\n",
       "    <tr>\n",
       "      <th>lib60</th>\n",
       "      <td>0.0e+00</td>\n",
       "      <td>1.8e+05</td>\n",
       "      <td>1.0e+05</td>\n",
       "      <td>3.2e+04</td>\n",
       "      <td>1.2e+06</td>\n",
       "    </tr>\n",
       "    <tr>\n",
       "      <th rowspan=\"2\" valign=\"top\">exptREF-none-0-ref</th>\n",
       "      <th>lib59</th>\n",
       "      <td>0.0e+00</td>\n",
       "      <td>4.6e+06</td>\n",
       "      <td>2.5e+06</td>\n",
       "      <td>8.5e+05</td>\n",
       "      <td>2.9e+07</td>\n",
       "    </tr>\n",
       "    <tr>\n",
       "      <th>lib60</th>\n",
       "      <td>0.0e+00</td>\n",
       "      <td>4.5e+06</td>\n",
       "      <td>2.4e+06</td>\n",
       "      <td>7.7e+05</td>\n",
       "      <td>2.7e+07</td>\n",
       "    </tr>\n",
       "    <tr>\n",
       "      <th rowspan=\"2\" valign=\"top\">exptREF2-none-0-ref</th>\n",
       "      <th>lib59</th>\n",
       "      <td>0.0e+00</td>\n",
       "      <td>4.6e+06</td>\n",
       "      <td>2.5e+06</td>\n",
       "      <td>8.5e+05</td>\n",
       "      <td>2.9e+07</td>\n",
       "    </tr>\n",
       "    <tr>\n",
       "      <th>lib60</th>\n",
       "      <td>0.0e+00</td>\n",
       "      <td>4.5e+06</td>\n",
       "      <td>2.4e+06</td>\n",
       "      <td>7.7e+05</td>\n",
       "      <td>2.7e+07</td>\n",
       "    </tr>\n",
       "  </tbody>\n",
       "</table>"
      ],
      "text/plain": [
       "<IPython.core.display.HTML object>"
      ]
     },
     "metadata": {},
     "output_type": "display_data"
    }
   ],
   "source": [
    "display(HTML(fates\n",
    "             .pivot_table(columns='fate',\n",
    "                          values='count',\n",
    "                          index=['sample', 'library'])\n",
    "             .applymap('{:.1e}'.format)  # scientific notation\n",
    "             .to_html()\n",
    "             ))"
   ]
  },
  {
   "cell_type": "markdown",
   "metadata": {},
   "source": [
    "Now we plot the barcode-read fates for each library / sample, showing the bars for valid barcodes in orange and the others in gray.\n",
    "We see that the largest fraction of barcode reads correspond to valid barcodes, and most of the others are invalid barcodes (probably because the map to variants that aren't present in our variant table since we didn't associate all variants with barcodes). The exception to this is lib2 Titeseq_03_bin3; the PCR for this sample in the original sequencing run failed, so we followed it up with a single MiSeq lane. We did not filter out the PhiX reads from this data before parsing, so these PhiX reads will deflate the fraction of valid barcode reads as expected, but does not indicate any problems."
   ]
  },
  {
   "cell_type": "code",
   "execution_count": 14,
   "metadata": {
    "execution": {
     "iopub.execute_input": "2024-01-22T23:20:59.434493Z",
     "iopub.status.busy": "2024-01-22T23:20:59.434217Z",
     "iopub.status.idle": "2024-01-22T23:21:00.656498Z",
     "shell.execute_reply": "2024-01-22T23:21:00.655970Z"
    }
   },
   "outputs": [
    {
     "data": {
      "image/png": "[encoded data removed]",
      "text/plain": [
       "<Figure size 1300x600 with 10 Axes>"
      ]
     },
     "metadata": {},
     "output_type": "display_data"
    }
   ],
   "source": [
    "ncol = 4\n",
    "nfacets = len(fates.groupby(['sample', 'library']))\n",
    "\n",
    "barcode_fate_plot = (\n",
    "    ggplot(\n",
    "        fates\n",
    "        .assign(sample=lambda x: pd.Categorical(x['sample'],\n",
    "                                                x['sample'].unique(),\n",
    "                                                ordered=True),\n",
    "                fate=lambda x: pd.Categorical(x['fate'],\n",
    "                                              x['fate'].unique(),\n",
    "                                              ordered=True),\n",
    "                is_valid=lambda x: x['fate'] == 'valid barcode'\n",
    "                ), \n",
    "        aes('fate', 'count', fill='is_valid')) +\n",
    "    geom_bar(stat='identity') +\n",
    "    facet_wrap('~ sample + library', ncol=ncol) +\n",
    "    scale_fill_manual(CBPALETTE, guide=False) +\n",
    "    theme(figure_size=(3.25 * ncol, 2 * math.ceil(nfacets / ncol)),\n",
    "          axis_text_x=element_text(angle=90),\n",
    "          panel_grid_major_x=element_blank()\n",
    "          ) +\n",
    "    scale_y_continuous(labels=dms_variants.utils.latex_sci_not,\n",
    "                       name='number of reads')\n",
    "    )\n",
    "\n",
    "_ = barcode_fate_plot.draw()"
   ]
  },
  {
   "cell_type": "markdown",
   "metadata": {},
   "source": [
    "## Add barcode counts to variant table\n",
    "Now we use the [CodonVariantTable.add_sample_counts_df](https://jbloomlab.github.io/dms_variants/dms_variants.codonvarianttable.html#dms_variants.codonvarianttable.CodonVariantTable.add_sample_counts_df) method to add the barcode counts to the variant table:"
   ]
  },
  {
   "cell_type": "code",
   "execution_count": 15,
   "metadata": {
    "execution": {
     "iopub.execute_input": "2024-01-22T23:21:00.658569Z",
     "iopub.status.busy": "2024-01-22T23:21:00.658222Z",
     "iopub.status.idle": "2024-01-22T23:21:03.035874Z",
     "shell.execute_reply": "2024-01-22T23:21:03.035250Z"
    }
   },
   "outputs": [],
   "source": [
    "variants.add_sample_counts_df(counts)"
   ]
  },
  {
   "cell_type": "markdown",
   "metadata": {},
   "source": [
    "The variant table now has a `variant_count_df` attribute that gives a data frame of all the variant counts.\n",
    "Here are the first few lines:"
   ]
  },
  {
   "cell_type": "code",
   "execution_count": 16,
   "metadata": {
    "execution": {
     "iopub.execute_input": "2024-01-22T23:21:03.038128Z",
     "iopub.status.busy": "2024-01-22T23:21:03.037676Z",
     "iopub.status.idle": "2024-01-22T23:21:03.043785Z",
     "shell.execute_reply": "2024-01-22T23:21:03.043364Z"
    },
    "scrolled": true
   },
   "outputs": [
    {
     "data": {
      "text/html": [
       "<table border=\"1\" class=\"dataframe\">\n",
       "  <thead>\n",
       "    <tr style=\"text-align: right;\">\n",
       "      <th>target</th>\n",
       "      <th>library</th>\n",
       "      <th>sample</th>\n",
       "      <th>barcode</th>\n",
       "      <th>count</th>\n",
       "      <th>variant_call_support</th>\n",
       "      <th>codon_substitutions</th>\n",
       "      <th>aa_substitutions</th>\n",
       "      <th>n_codon_substitutions</th>\n",
       "      <th>n_aa_substitutions</th>\n",
       "    </tr>\n",
       "  </thead>\n",
       "  <tbody>\n",
       "    <tr>\n",
       "      <td>Omicron_XBB15</td>\n",
       "      <td>lib59</td>\n",
       "      <td>exptREF2-none-0-ref</td>\n",
       "      <td>ACTAGGCACTCCCGTA</td>\n",
       "      <td>10510</td>\n",
       "      <td>170</td>\n",
       "      <td>TCT108TTT</td>\n",
       "      <td>S108F</td>\n",
       "      <td>1</td>\n",
       "      <td>1</td>\n",
       "    </tr>\n",
       "    <tr>\n",
       "      <td>Omicron_XBB15</td>\n",
       "      <td>lib59</td>\n",
       "      <td>exptREF2-none-0-ref</td>\n",
       "      <td>CATAATCCTCTTCATT</td>\n",
       "      <td>9366</td>\n",
       "      <td>160</td>\n",
       "      <td>AAG94ACT CCA197CCG</td>\n",
       "      <td>K94T</td>\n",
       "      <td>2</td>\n",
       "      <td>1</td>\n",
       "    </tr>\n",
       "    <tr>\n",
       "      <td>Omicron_XBB15</td>\n",
       "      <td>lib59</td>\n",
       "      <td>exptREF2-none-0-ref</td>\n",
       "      <td>CAAGGGAAAGAATCGT</td>\n",
       "      <td>8610</td>\n",
       "      <td>165</td>\n",
       "      <td>GCC67GTT</td>\n",
       "      <td>A67V</td>\n",
       "      <td>1</td>\n",
       "      <td>1</td>\n",
       "    </tr>\n",
       "    <tr>\n",
       "      <td>Omicron_XBB15</td>\n",
       "      <td>lib59</td>\n",
       "      <td>exptREF2-none-0-ref</td>\n",
       "      <td>ATCTATCCCAATACGA</td>\n",
       "      <td>7899</td>\n",
       "      <td>128</td>\n",
       "      <td>GAG186TGG</td>\n",
       "      <td>E186W</td>\n",
       "      <td>1</td>\n",
       "      <td>1</td>\n",
       "    </tr>\n",
       "    <tr>\n",
       "      <td>Omicron_XBB15</td>\n",
       "      <td>lib59</td>\n",
       "      <td>exptREF2-none-0-ref</td>\n",
       "      <td>GACTTGAGTGATACCA</td>\n",
       "      <td>6960</td>\n",
       "      <td>116</td>\n",
       "      <td></td>\n",
       "      <td></td>\n",
       "      <td>0</td>\n",
       "      <td>0</td>\n",
       "    </tr>\n",
       "  </tbody>\n",
       "</table>"
      ],
      "text/plain": [
       "<IPython.core.display.HTML object>"
      ]
     },
     "metadata": {},
     "output_type": "display_data"
    }
   ],
   "source": [
    "display(HTML(variants.variant_count_df.head().to_html(index=False)))"
   ]
  },
  {
   "cell_type": "markdown",
   "metadata": {},
   "source": [
    "Write the variant counts data frame to a CSV file.\n",
    "It can then be used to re-initialize a [CodonVariantTable](https://jbloomlab.github.io/dms_variants/dms_variants.codonvarianttable.html#dms_variants.codonvarianttable.CodonVariantTable) via its [from_variant_count_df](https://jbloomlab.github.io/dms_variants/dms_variants.codonvarianttable.html#dms_variants.codonvarianttable.CodonVariantTable.from_variant_count_df) method:"
   ]
  },
  {
   "cell_type": "code",
   "execution_count": 17,
   "metadata": {
    "execution": {
     "iopub.execute_input": "2024-01-22T23:21:03.045649Z",
     "iopub.status.busy": "2024-01-22T23:21:03.045334Z",
     "iopub.status.idle": "2024-01-22T23:21:14.469322Z",
     "shell.execute_reply": "2024-01-22T23:21:14.468724Z"
    }
   },
   "outputs": [
    {
     "name": "stdout",
     "output_type": "stream",
     "text": [
      "Writing variant counts to results/counts/Omicron_XBB15/variant_counts.csv.gz\n"
     ]
    }
   ],
   "source": [
    "print(f\"Writing variant counts to {config['variant_counts_Omicron_XBB15']}\")\n",
    "variants.variant_count_df.to_csv(config['variant_counts_Omicron_XBB15'], index=False, compression='gzip')"
   ]
  },
  {
   "cell_type": "markdown",
   "metadata": {},
   "source": [
    "The [CodonVariantTable](https://jbloomlab.github.io/dms_variants/dms_variants.codonvarianttable.html#dms_variants.codonvarianttable.CodonVariantTable) has lots of nice functions that can be used to analyze the counts it contains.\n",
    "However, we do that in the next notebook so we don't have to re-run this entire (rather computationally intensive) notebook every time we want to analyze a new aspect of the counts."
   ]
  }
 ],
 "metadata": {
  "kernelspec": {
   "display_name": "Python 3 (ipykernel)",
   "language": "python",
   "name": "python3"
  },
  "language_info": {
   "codemirror_mode": {
    "name": "ipython",
    "version": 3
   },
   "file_extension": ".py",
   "mimetype": "text/x-python",
   "name": "python",
   "nbconvert_exporter": "python",
   "pygments_lexer": "ipython3",
   "version": "3.8.15"
  }
 },
 "nbformat": 4,
 "nbformat_minor": 4
}
