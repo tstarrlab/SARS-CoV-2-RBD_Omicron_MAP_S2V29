{
 "cells": [
  {
   "cell_type": "markdown",
   "metadata": {},
   "source": [
    "# Output PDBs with escape scores as B factors\n",
    "This Python Jupyter notebook outputs PDBs with the escape scores as B factors.\n",
    "\n",
    "Though we will want more elaborate series of commands to codify our visualization of these RBD structures colored by escape, the series of commands below, when executed in a `PyMol` session with one of these PDBs open, will color the RBD surface according to escape scores.\n",
    "\n",
    "For example, to normalize each structure colored by the max mut effect, we might want to have a white to red scale from 0 to 1:\n",
    "\n",
    "     create RBD, chain E\n",
    "     hide all; show cartoon, chain A; color gray20, chain A\n",
    "     show surface, RBD; spectrum b, white red, RBD, minimum=0, maximum=1\n",
    "     \n",
    "For something like total escape, maybe we want each structure normalized to the maximum total escape in that structure, in which case we can just leave the maximum argument empty:\n",
    "\n",
    "     create RBD, chain E\n",
    "     hide all; show cartoon, chain A; color gray20, chain A\n",
    "     show surface, RBD; spectrum b, white red, RBD, minimum=0\n",
    "     \n",
    "We write PDBs with B factors indicating the total site escape and maximum mutation escape at each site, and the same with these values normalized to the maximum for the full structure (the latter are easier to process in `Chimera`).\n",
    "\n",
    "First, import Python modules:"
   ]
  },
  {
   "cell_type": "code",
   "execution_count": 1,
   "metadata": {
    "execution": {
     "iopub.execute_input": "2024-01-22T23:25:05.384686Z",
     "iopub.status.busy": "2024-01-22T23:25:05.384390Z",
     "iopub.status.idle": "2024-01-22T23:25:05.944391Z",
     "shell.execute_reply": "2024-01-22T23:25:05.943822Z"
    }
   },
   "outputs": [],
   "source": [
    "import collections\n",
    "import copy\n",
    "import os\n",
    "import warnings\n",
    "\n",
    "import Bio.PDB\n",
    "\n",
    "import dms_variants.pdb_utils\n",
    "\n",
    "from IPython.display import display, HTML\n",
    "\n",
    "import pandas as pd\n",
    "\n",
    "import yaml\n",
    "\n",
    "%matplotlib inline"
   ]
  },
  {
   "cell_type": "markdown",
   "metadata": {},
   "source": [
    "Read the configuration file:"
   ]
  },
  {
   "cell_type": "code",
   "execution_count": 2,
   "metadata": {
    "execution": {
     "iopub.execute_input": "2024-01-22T23:25:05.946664Z",
     "iopub.status.busy": "2024-01-22T23:25:05.946261Z",
     "iopub.status.idle": "2024-01-22T23:25:05.966044Z",
     "shell.execute_reply": "2024-01-22T23:25:05.965607Z"
    }
   },
   "outputs": [],
   "source": [
    "with open('config.yaml') as f:\n",
    "    config = yaml.safe_load(f)"
   ]
  },
  {
   "cell_type": "markdown",
   "metadata": {},
   "source": [
    "Read configuration for outputting PDBs:"
   ]
  },
  {
   "cell_type": "code",
   "execution_count": 3,
   "metadata": {
    "execution": {
     "iopub.execute_input": "2024-01-22T23:25:05.967857Z",
     "iopub.status.busy": "2024-01-22T23:25:05.967557Z",
     "iopub.status.idle": "2024-01-22T23:25:05.989486Z",
     "shell.execute_reply": "2024-01-22T23:25:05.989018Z"
    }
   },
   "outputs": [
    {
     "name": "stdout",
     "output_type": "stream",
     "text": [
      "Reading PDB output configuration from data/output_pdbs_config_Omicron_XBB15.yaml\n"
     ]
    }
   ],
   "source": [
    "print(f\"Reading PDB output configuration from {config['output_pdbs_config_XBB15']}\")\n",
    "with open(config['output_pdbs_config_XBB15']) as f:\n",
    "    output_pdbs_config = yaml.safe_load(f)"
   ]
  },
  {
   "cell_type": "markdown",
   "metadata": {},
   "source": [
    "Make output directory:"
   ]
  },
  {
   "cell_type": "code",
   "execution_count": 4,
   "metadata": {
    "execution": {
     "iopub.execute_input": "2024-01-22T23:25:06.017843Z",
     "iopub.status.busy": "2024-01-22T23:25:06.017539Z",
     "iopub.status.idle": "2024-01-22T23:25:06.036492Z",
     "shell.execute_reply": "2024-01-22T23:25:06.035982Z"
    }
   },
   "outputs": [],
   "source": [
    "os.makedirs(config['pdb_outputs_dir_Omicron_XBB15'], exist_ok=True)"
   ]
  },
  {
   "cell_type": "markdown",
   "metadata": {},
   "source": [
    "Read escape fractions and compute **total** and **maximum** escape at each site, and also the total and maximum escape at each site normalized to be between 0 and 1 for each selection:"
   ]
  },
  {
   "cell_type": "code",
   "execution_count": 5,
   "metadata": {
    "execution": {
     "iopub.execute_input": "2024-01-22T23:25:06.038254Z",
     "iopub.status.busy": "2024-01-22T23:25:06.037953Z",
     "iopub.status.idle": "2024-01-22T23:25:06.083374Z",
     "shell.execute_reply": "2024-01-22T23:25:06.082872Z"
    }
   },
   "outputs": [
    {
     "name": "stdout",
     "output_type": "stream",
     "text": [
      "Reading escape fractions from results/escape_scores/escape_fracs_Omicron_XBB15.csv\n"
     ]
    },
    {
     "data": {
      "text/html": [
       "<table border=\"1\" class=\"dataframe\">\n",
       "  <thead>\n",
       "    <tr style=\"text-align: right;\">\n",
       "      <th>selection</th>\n",
       "      <th>site</th>\n",
       "      <th>total_escape</th>\n",
       "      <th>max_escape</th>\n",
       "      <th>max_total_escape</th>\n",
       "      <th>max_max_escape</th>\n",
       "      <th>norm_total_escape</th>\n",
       "      <th>norm_max_escape</th>\n",
       "    </tr>\n",
       "  </thead>\n",
       "  <tbody>\n",
       "    <tr>\n",
       "      <td>S2K146_266</td>\n",
       "      <td>331</td>\n",
       "      <td>0.334739</td>\n",
       "      <td>0.04713</td>\n",
       "      <td>16.5207</td>\n",
       "      <td>0.986</td>\n",
       "      <td>0.020262</td>\n",
       "      <td>0.047799</td>\n",
       "    </tr>\n",
       "    <tr>\n",
       "      <td>S2K146_266</td>\n",
       "      <td>332</td>\n",
       "      <td>0.295386</td>\n",
       "      <td>0.04183</td>\n",
       "      <td>16.5207</td>\n",
       "      <td>0.986</td>\n",
       "      <td>0.017880</td>\n",
       "      <td>0.042424</td>\n",
       "    </tr>\n",
       "    <tr>\n",
       "      <td>S2K146_266</td>\n",
       "      <td>333</td>\n",
       "      <td>0.357738</td>\n",
       "      <td>0.06987</td>\n",
       "      <td>16.5207</td>\n",
       "      <td>0.986</td>\n",
       "      <td>0.021654</td>\n",
       "      <td>0.070862</td>\n",
       "    </tr>\n",
       "    <tr>\n",
       "      <td>S2K146_266</td>\n",
       "      <td>334</td>\n",
       "      <td>0.309953</td>\n",
       "      <td>0.03992</td>\n",
       "      <td>16.5207</td>\n",
       "      <td>0.986</td>\n",
       "      <td>0.018761</td>\n",
       "      <td>0.040487</td>\n",
       "    </tr>\n",
       "    <tr>\n",
       "      <td>S2K146_266</td>\n",
       "      <td>335</td>\n",
       "      <td>0.276427</td>\n",
       "      <td>0.03280</td>\n",
       "      <td>16.5207</td>\n",
       "      <td>0.986</td>\n",
       "      <td>0.016732</td>\n",
       "      <td>0.033266</td>\n",
       "    </tr>\n",
       "  </tbody>\n",
       "</table>"
      ],
      "text/plain": [
       "<IPython.core.display.HTML object>"
      ]
     },
     "metadata": {},
     "output_type": "display_data"
    }
   ],
   "source": [
    "print(f\"Reading escape fractions from {config['escape_fracs_Omicron_XBB15']}\")\n",
    "\n",
    "escape_fracs = (\n",
    "    pd.read_csv(config['escape_fracs_Omicron_XBB15'])\n",
    "    .query('library == \"average\"')\n",
    "    .assign(site=lambda x: x['label_site'])\n",
    "    .groupby(['selection', 'site'])\n",
    "    .aggregate(total_escape=pd.NamedAgg(config['mut_metric'], 'sum'),\n",
    "               max_escape=pd.NamedAgg(config['mut_metric'], 'max')\n",
    "               )\n",
    "    .reset_index()\n",
    "    .assign(max_total_escape=lambda x: x.groupby('selection')['total_escape'].transform('max'),\n",
    "            max_max_escape=lambda x: x.groupby('selection')['max_escape'].transform('max'),\n",
    "            norm_total_escape=lambda x: x['total_escape'] / x['max_total_escape'],\n",
    "            norm_max_escape=lambda x: x['max_escape'] / x['max_max_escape'])\n",
    "    )\n",
    "\n",
    "display(HTML(escape_fracs.head().to_html(index=False)))"
   ]
  },
  {
   "cell_type": "markdown",
   "metadata": {},
   "source": [
    "Now map the escape metrics to the B-factors.\n",
    "For sites where no mutations have escape scores:\n",
    " - In the RBD chain(s) fill the B-factor for non-normalized scores to -1 to enable collapsing to zero or callout as a a separate class, depending how we choose to color sites for different visualizations. For normalized scores, fill to 0.\n",
    " - In other chains, always fill missing B factors to 0.  "
   ]
  },
  {
   "cell_type": "code",
   "execution_count": 6,
   "metadata": {
    "execution": {
     "iopub.execute_input": "2024-01-22T23:25:06.085333Z",
     "iopub.status.busy": "2024-01-22T23:25:06.085011Z",
     "iopub.status.idle": "2024-01-22T23:25:08.554233Z",
     "shell.execute_reply": "2024-01-22T23:25:08.553791Z"
    }
   },
   "outputs": [
    {
     "name": "stdout",
     "output_type": "stream",
     "text": [
      "\n",
      "Making PDB mappings for 8iov to data/pdbs/8iov_XBB1.pdb\n",
      "Making mappings for 3 conditions.\n",
      "Mapping to the following chains: B\n",
      "  Writing B-factor re-assigned PDBs for S2K146_266 to:\n",
      "    results/pdb_outputs/Omicron_XBB15/S2K146_266_8iov_total_escape.pdb\n",
      "    results/pdb_outputs/Omicron_XBB15/S2K146_266_8iov_max_escape.pdb\n",
      "    results/pdb_outputs/Omicron_XBB15/S2K146_266_8iov_norm_total_escape.pdb\n",
      "    results/pdb_outputs/Omicron_XBB15/S2K146_266_8iov_norm_max_escape.pdb\n",
      "  Writing B-factor re-assigned PDBs for S2V29_59 to:\n",
      "    results/pdb_outputs/Omicron_XBB15/S2V29_59_8iov_total_escape.pdb\n",
      "    results/pdb_outputs/Omicron_XBB15/S2V29_59_8iov_max_escape.pdb\n",
      "    results/pdb_outputs/Omicron_XBB15/S2V29_59_8iov_norm_total_escape.pdb\n",
      "    results/pdb_outputs/Omicron_XBB15/S2V29_59_8iov_norm_max_escape.pdb\n",
      "  Writing B-factor re-assigned PDBs for S2V29_v37_2_42 to:\n",
      "    results/pdb_outputs/Omicron_XBB15/S2V29_v37_2_42_8iov_total_escape.pdb\n",
      "    results/pdb_outputs/Omicron_XBB15/S2V29_v37_2_42_8iov_max_escape.pdb\n",
      "    results/pdb_outputs/Omicron_XBB15/S2V29_v37_2_42_8iov_norm_total_escape.pdb\n",
      "    results/pdb_outputs/Omicron_XBB15/S2V29_v37_2_42_8iov_norm_max_escape.pdb\n"
     ]
    }
   ],
   "source": [
    "for name, specs in output_pdbs_config.items():\n",
    "    print(f\"\\nMaking PDB mappings for {name} to {specs['pdbfile']}\")\n",
    "    assert os.path.isfile(specs['pdbfile'])\n",
    "    \n",
    "    # get escape fracs just for conditions of interest\n",
    "    if isinstance(specs['conditions'], str) and specs['conditions'].upper() == 'ALL':\n",
    "        conditions = escape_fracs['selection'].unique().tolist()\n",
    "    else:\n",
    "        assert isinstance(specs['conditions'], list)\n",
    "        conditions = specs['conditions']\n",
    "    print(f\"Making mappings for {len(conditions)} conditions.\")\n",
    "    df = escape_fracs.query('selection in @conditions')\n",
    "    \n",
    "    # get chains\n",
    "    assert isinstance(specs['chains'], list)\n",
    "    print('Mapping to the following chains: ' + ', '.join(specs['chains']))\n",
    "    df = pd.concat([df.assign(chain=chain) for chain in specs['chains']], ignore_index=True)\n",
    "    \n",
    "    # make mappings for each condition and metric\n",
    "    for condition, df in df.groupby('selection'):\n",
    "        print(f\"  Writing B-factor re-assigned PDBs for {condition} to:\")\n",
    "    \n",
    "        for metric in ['total_escape', 'max_escape', 'norm_total_escape', 'norm_max_escape']:\n",
    "        \n",
    "            # what do we assign to missing sites?\n",
    "            missing_metric = collections.defaultdict(lambda: 0)  # non-RBD chains always fill to zero\n",
    "            for chain in specs['chains']:\n",
    "                if 'norm' in metric:\n",
    "                    missing_metric[chain] = 0  # missing sites in RBD are 0 for normalized metric PDBs\n",
    "                else:\n",
    "                    missing_metric[chain] = -1  # missing sites in RBD are -1 for non-normalized metric PDBs\n",
    "        \n",
    "            fname = os.path.join(config['pdb_outputs_dir_Omicron_XBB15'], f\"{condition}_{name}_{metric}.pdb\")\n",
    "            print(f\"    {fname}\")\n",
    "            \n",
    "            dms_variants.pdb_utils.reassign_b_factor(input_pdbfile=specs['pdbfile'],\n",
    "                                                     output_pdbfile=fname,\n",
    "                                                     df=df,\n",
    "                                                     metric_col=metric,\n",
    "                                                     missing_metric=missing_metric)"
   ]
  },
  {
   "cell_type": "code",
   "execution_count": null,
   "metadata": {},
   "outputs": [],
   "source": []
  }
 ],
 "metadata": {
  "kernelspec": {
   "display_name": "Python 3 (ipykernel)",
   "language": "python",
   "name": "python3"
  },
  "language_info": {
   "codemirror_mode": {
    "name": "ipython",
    "version": 3
   },
   "file_extension": ".py",
   "mimetype": "text/x-python",
   "name": "python",
   "nbconvert_exporter": "python",
   "pygments_lexer": "ipython3",
   "version": "3.8.15"
  }
 },
 "nbformat": 4,
 "nbformat_minor": 4
}
